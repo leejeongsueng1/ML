{
 "cells": [
  {
   "cell_type": "markdown",
   "id": "e345c4fd-c79a-4252-92f2-d7297a180e78",
   "metadata": {},
   "source": [
    "# 로그 연습\n",
    "자전거 대여 수요 예측을 해보고 로그처리 후 값을 비교해보자"
   ]
  },
  {
   "cell_type": "code",
   "execution_count": 1,
   "id": "4a80dd6f-706f-42b4-8c02-c349094edff6",
   "metadata": {},
   "outputs": [],
   "source": [
    "import numpy as np\n",
    "import pandas as pd\n",
    "import seaborn as sns\n",
    "import matplotlib.pyplot as plt\n",
    "import warnings\n",
    "warnings.filterwarnings('ignore')"
   ]
  },
  {
   "cell_type": "code",
   "execution_count": 2,
   "id": "ad71efc9-e07b-4489-a7b2-01b28df7abe3",
   "metadata": {},
   "outputs": [],
   "source": [
    "bike_df = pd.read_csv('data/bike_train.csv')"
   ]
  },
  {
   "cell_type": "code",
   "execution_count": 3,
   "id": "63214c28-edb0-4716-aeb9-f53cd088a86e",
   "metadata": {},
   "outputs": [
    {
     "data": {
      "text/plain": [
       "<bound method DataFrame.info of                   datetime  season  holiday  workingday  weather   temp  \\\n",
       "0      2011-01-01 00:00:00       1        0           0        1   9.84   \n",
       "1      2011-01-01 01:00:00       1        0           0        1   9.02   \n",
       "2      2011-01-01 02:00:00       1        0           0        1   9.02   \n",
       "3      2011-01-01 03:00:00       1        0           0        1   9.84   \n",
       "4      2011-01-01 04:00:00       1        0           0        1   9.84   \n",
       "...                    ...     ...      ...         ...      ...    ...   \n",
       "10881  2012-12-19 19:00:00       4        0           1        1  15.58   \n",
       "10882  2012-12-19 20:00:00       4        0           1        1  14.76   \n",
       "10883  2012-12-19 21:00:00       4        0           1        1  13.94   \n",
       "10884  2012-12-19 22:00:00       4        0           1        1  13.94   \n",
       "10885  2012-12-19 23:00:00       4        0           1        1  13.12   \n",
       "\n",
       "        atemp  humidity  windspeed  casual  registered  count  \n",
       "0      14.395        81     0.0000       3          13     16  \n",
       "1      13.635        80     0.0000       8          32     40  \n",
       "2      13.635        80     0.0000       5          27     32  \n",
       "3      14.395        75     0.0000       3          10     13  \n",
       "4      14.395        75     0.0000       0           1      1  \n",
       "...       ...       ...        ...     ...         ...    ...  \n",
       "10881  19.695        50    26.0027       7         329    336  \n",
       "10882  17.425        57    15.0013      10         231    241  \n",
       "10883  15.910        61    15.0013       4         164    168  \n",
       "10884  17.425        61     6.0032      12         117    129  \n",
       "10885  16.665        66     8.9981       4          84     88  \n",
       "\n",
       "[10886 rows x 12 columns]>"
      ]
     },
     "execution_count": 3,
     "metadata": {},
     "output_type": "execute_result"
    }
   ],
   "source": [
    "bike_df.info"
   ]
  },
  {
   "cell_type": "code",
   "execution_count": 4,
   "id": "2446f101-0421-4e85-8f28-c1c97bae6309",
   "metadata": {},
   "outputs": [
    {
     "data": {
      "text/html": [
       "<div>\n",
       "<style scoped>\n",
       "    .dataframe tbody tr th:only-of-type {\n",
       "        vertical-align: middle;\n",
       "    }\n",
       "\n",
       "    .dataframe tbody tr th {\n",
       "        vertical-align: top;\n",
       "    }\n",
       "\n",
       "    .dataframe thead th {\n",
       "        text-align: right;\n",
       "    }\n",
       "</style>\n",
       "<table border=\"1\" class=\"dataframe\">\n",
       "  <thead>\n",
       "    <tr style=\"text-align: right;\">\n",
       "      <th></th>\n",
       "      <th>datetime</th>\n",
       "      <th>season</th>\n",
       "      <th>holiday</th>\n",
       "      <th>workingday</th>\n",
       "      <th>weather</th>\n",
       "      <th>temp</th>\n",
       "      <th>atemp</th>\n",
       "      <th>humidity</th>\n",
       "      <th>windspeed</th>\n",
       "      <th>casual</th>\n",
       "      <th>registered</th>\n",
       "      <th>count</th>\n",
       "    </tr>\n",
       "  </thead>\n",
       "  <tbody>\n",
       "    <tr>\n",
       "      <th>0</th>\n",
       "      <td>2011-01-01 00:00:00</td>\n",
       "      <td>1</td>\n",
       "      <td>0</td>\n",
       "      <td>0</td>\n",
       "      <td>1</td>\n",
       "      <td>9.84</td>\n",
       "      <td>14.395</td>\n",
       "      <td>81</td>\n",
       "      <td>0.0</td>\n",
       "      <td>3</td>\n",
       "      <td>13</td>\n",
       "      <td>16</td>\n",
       "    </tr>\n",
       "    <tr>\n",
       "      <th>1</th>\n",
       "      <td>2011-01-01 01:00:00</td>\n",
       "      <td>1</td>\n",
       "      <td>0</td>\n",
       "      <td>0</td>\n",
       "      <td>1</td>\n",
       "      <td>9.02</td>\n",
       "      <td>13.635</td>\n",
       "      <td>80</td>\n",
       "      <td>0.0</td>\n",
       "      <td>8</td>\n",
       "      <td>32</td>\n",
       "      <td>40</td>\n",
       "    </tr>\n",
       "  </tbody>\n",
       "</table>\n",
       "</div>"
      ],
      "text/plain": [
       "              datetime  season  holiday  workingday  weather  temp   atemp  \\\n",
       "0  2011-01-01 00:00:00       1        0           0        1  9.84  14.395   \n",
       "1  2011-01-01 01:00:00       1        0           0        1  9.02  13.635   \n",
       "\n",
       "   humidity  windspeed  casual  registered  count  \n",
       "0        81        0.0       3          13     16  \n",
       "1        80        0.0       8          32     40  "
      ]
     },
     "execution_count": 4,
     "metadata": {},
     "output_type": "execute_result"
    }
   ],
   "source": [
    "bike_df.head(2)"
   ]
  },
  {
   "cell_type": "code",
   "execution_count": 5,
   "id": "41034677-42a2-4375-ac6a-a30bc1043227",
   "metadata": {},
   "outputs": [
    {
     "data": {
      "text/html": [
       "<div>\n",
       "<style scoped>\n",
       "    .dataframe tbody tr th:only-of-type {\n",
       "        vertical-align: middle;\n",
       "    }\n",
       "\n",
       "    .dataframe tbody tr th {\n",
       "        vertical-align: top;\n",
       "    }\n",
       "\n",
       "    .dataframe thead th {\n",
       "        text-align: right;\n",
       "    }\n",
       "</style>\n",
       "<table border=\"1\" class=\"dataframe\">\n",
       "  <thead>\n",
       "    <tr style=\"text-align: right;\">\n",
       "      <th></th>\n",
       "      <th>datetime</th>\n",
       "      <th>season</th>\n",
       "      <th>holiday</th>\n",
       "      <th>workingday</th>\n",
       "      <th>weather</th>\n",
       "      <th>temp</th>\n",
       "      <th>atemp</th>\n",
       "      <th>humidity</th>\n",
       "      <th>windspeed</th>\n",
       "      <th>casual</th>\n",
       "      <th>registered</th>\n",
       "      <th>count</th>\n",
       "    </tr>\n",
       "  </thead>\n",
       "  <tbody>\n",
       "    <tr>\n",
       "      <th>2768</th>\n",
       "      <td>2011-07-04 06:00:00</td>\n",
       "      <td>3</td>\n",
       "      <td>1</td>\n",
       "      <td>0</td>\n",
       "      <td>1</td>\n",
       "      <td>26.24</td>\n",
       "      <td>28.790</td>\n",
       "      <td>89</td>\n",
       "      <td>11.0014</td>\n",
       "      <td>5</td>\n",
       "      <td>11</td>\n",
       "      <td>16</td>\n",
       "    </tr>\n",
       "    <tr>\n",
       "      <th>481</th>\n",
       "      <td>2011-02-03 03:00:00</td>\n",
       "      <td>1</td>\n",
       "      <td>0</td>\n",
       "      <td>1</td>\n",
       "      <td>1</td>\n",
       "      <td>7.38</td>\n",
       "      <td>8.335</td>\n",
       "      <td>43</td>\n",
       "      <td>16.9979</td>\n",
       "      <td>0</td>\n",
       "      <td>1</td>\n",
       "      <td>1</td>\n",
       "    </tr>\n",
       "  </tbody>\n",
       "</table>\n",
       "</div>"
      ],
      "text/plain": [
       "                 datetime  season  holiday  workingday  weather   temp  \\\n",
       "2768  2011-07-04 06:00:00       3        1           0        1  26.24   \n",
       "481   2011-02-03 03:00:00       1        0           1        1   7.38   \n",
       "\n",
       "       atemp  humidity  windspeed  casual  registered  count  \n",
       "2768  28.790        89    11.0014       5          11     16  \n",
       "481    8.335        43    16.9979       0           1      1  "
      ]
     },
     "execution_count": 5,
     "metadata": {},
     "output_type": "execute_result"
    }
   ],
   "source": [
    "bike_df.sample(2)"
   ]
  },
  {
   "cell_type": "code",
   "execution_count": 6,
   "id": "381fa49d-e761-4999-af2a-167e6b60699e",
   "metadata": {},
   "outputs": [],
   "source": [
    "bike_df['datetime'] = bike_df.datetime.apply(pd.to_datetime)"
   ]
  },
  {
   "cell_type": "code",
   "execution_count": 7,
   "id": "d3f99b48-22c9-403e-a3c5-f5853de5fbfb",
   "metadata": {},
   "outputs": [],
   "source": [
    "bike_df['year'] = bike_df.datetime.apply(lambda x:x.year)\n",
    "bike_df['month'] = bike_df.datetime.apply(lambda x:x.month)\n",
    "bike_df['day'] = bike_df.datetime.apply(lambda x:x.day)\n",
    "bike_df['hour'] = bike_df.datetime.apply(lambda x:x.hour)"
   ]
  },
  {
   "cell_type": "code",
   "execution_count": 8,
   "id": "0ad79c56-cdea-4449-b89d-adc57d188925",
   "metadata": {},
   "outputs": [
    {
     "data": {
      "text/html": [
       "<div>\n",
       "<style scoped>\n",
       "    .dataframe tbody tr th:only-of-type {\n",
       "        vertical-align: middle;\n",
       "    }\n",
       "\n",
       "    .dataframe tbody tr th {\n",
       "        vertical-align: top;\n",
       "    }\n",
       "\n",
       "    .dataframe thead th {\n",
       "        text-align: right;\n",
       "    }\n",
       "</style>\n",
       "<table border=\"1\" class=\"dataframe\">\n",
       "  <thead>\n",
       "    <tr style=\"text-align: right;\">\n",
       "      <th></th>\n",
       "      <th>datetime</th>\n",
       "      <th>season</th>\n",
       "      <th>holiday</th>\n",
       "      <th>workingday</th>\n",
       "      <th>weather</th>\n",
       "      <th>temp</th>\n",
       "      <th>atemp</th>\n",
       "      <th>humidity</th>\n",
       "      <th>windspeed</th>\n",
       "      <th>casual</th>\n",
       "      <th>registered</th>\n",
       "      <th>count</th>\n",
       "      <th>year</th>\n",
       "      <th>month</th>\n",
       "      <th>day</th>\n",
       "      <th>hour</th>\n",
       "    </tr>\n",
       "  </thead>\n",
       "  <tbody>\n",
       "    <tr>\n",
       "      <th>0</th>\n",
       "      <td>2011-01-01 00:00:00</td>\n",
       "      <td>1</td>\n",
       "      <td>0</td>\n",
       "      <td>0</td>\n",
       "      <td>1</td>\n",
       "      <td>9.84</td>\n",
       "      <td>14.395</td>\n",
       "      <td>81</td>\n",
       "      <td>0.0000</td>\n",
       "      <td>3</td>\n",
       "      <td>13</td>\n",
       "      <td>16</td>\n",
       "      <td>2011</td>\n",
       "      <td>1</td>\n",
       "      <td>1</td>\n",
       "      <td>0</td>\n",
       "    </tr>\n",
       "    <tr>\n",
       "      <th>1</th>\n",
       "      <td>2011-01-01 01:00:00</td>\n",
       "      <td>1</td>\n",
       "      <td>0</td>\n",
       "      <td>0</td>\n",
       "      <td>1</td>\n",
       "      <td>9.02</td>\n",
       "      <td>13.635</td>\n",
       "      <td>80</td>\n",
       "      <td>0.0000</td>\n",
       "      <td>8</td>\n",
       "      <td>32</td>\n",
       "      <td>40</td>\n",
       "      <td>2011</td>\n",
       "      <td>1</td>\n",
       "      <td>1</td>\n",
       "      <td>1</td>\n",
       "    </tr>\n",
       "    <tr>\n",
       "      <th>2</th>\n",
       "      <td>2011-01-01 02:00:00</td>\n",
       "      <td>1</td>\n",
       "      <td>0</td>\n",
       "      <td>0</td>\n",
       "      <td>1</td>\n",
       "      <td>9.02</td>\n",
       "      <td>13.635</td>\n",
       "      <td>80</td>\n",
       "      <td>0.0000</td>\n",
       "      <td>5</td>\n",
       "      <td>27</td>\n",
       "      <td>32</td>\n",
       "      <td>2011</td>\n",
       "      <td>1</td>\n",
       "      <td>1</td>\n",
       "      <td>2</td>\n",
       "    </tr>\n",
       "    <tr>\n",
       "      <th>3</th>\n",
       "      <td>2011-01-01 03:00:00</td>\n",
       "      <td>1</td>\n",
       "      <td>0</td>\n",
       "      <td>0</td>\n",
       "      <td>1</td>\n",
       "      <td>9.84</td>\n",
       "      <td>14.395</td>\n",
       "      <td>75</td>\n",
       "      <td>0.0000</td>\n",
       "      <td>3</td>\n",
       "      <td>10</td>\n",
       "      <td>13</td>\n",
       "      <td>2011</td>\n",
       "      <td>1</td>\n",
       "      <td>1</td>\n",
       "      <td>3</td>\n",
       "    </tr>\n",
       "    <tr>\n",
       "      <th>4</th>\n",
       "      <td>2011-01-01 04:00:00</td>\n",
       "      <td>1</td>\n",
       "      <td>0</td>\n",
       "      <td>0</td>\n",
       "      <td>1</td>\n",
       "      <td>9.84</td>\n",
       "      <td>14.395</td>\n",
       "      <td>75</td>\n",
       "      <td>0.0000</td>\n",
       "      <td>0</td>\n",
       "      <td>1</td>\n",
       "      <td>1</td>\n",
       "      <td>2011</td>\n",
       "      <td>1</td>\n",
       "      <td>1</td>\n",
       "      <td>4</td>\n",
       "    </tr>\n",
       "    <tr>\n",
       "      <th>...</th>\n",
       "      <td>...</td>\n",
       "      <td>...</td>\n",
       "      <td>...</td>\n",
       "      <td>...</td>\n",
       "      <td>...</td>\n",
       "      <td>...</td>\n",
       "      <td>...</td>\n",
       "      <td>...</td>\n",
       "      <td>...</td>\n",
       "      <td>...</td>\n",
       "      <td>...</td>\n",
       "      <td>...</td>\n",
       "      <td>...</td>\n",
       "      <td>...</td>\n",
       "      <td>...</td>\n",
       "      <td>...</td>\n",
       "    </tr>\n",
       "    <tr>\n",
       "      <th>10881</th>\n",
       "      <td>2012-12-19 19:00:00</td>\n",
       "      <td>4</td>\n",
       "      <td>0</td>\n",
       "      <td>1</td>\n",
       "      <td>1</td>\n",
       "      <td>15.58</td>\n",
       "      <td>19.695</td>\n",
       "      <td>50</td>\n",
       "      <td>26.0027</td>\n",
       "      <td>7</td>\n",
       "      <td>329</td>\n",
       "      <td>336</td>\n",
       "      <td>2012</td>\n",
       "      <td>12</td>\n",
       "      <td>19</td>\n",
       "      <td>19</td>\n",
       "    </tr>\n",
       "    <tr>\n",
       "      <th>10882</th>\n",
       "      <td>2012-12-19 20:00:00</td>\n",
       "      <td>4</td>\n",
       "      <td>0</td>\n",
       "      <td>1</td>\n",
       "      <td>1</td>\n",
       "      <td>14.76</td>\n",
       "      <td>17.425</td>\n",
       "      <td>57</td>\n",
       "      <td>15.0013</td>\n",
       "      <td>10</td>\n",
       "      <td>231</td>\n",
       "      <td>241</td>\n",
       "      <td>2012</td>\n",
       "      <td>12</td>\n",
       "      <td>19</td>\n",
       "      <td>20</td>\n",
       "    </tr>\n",
       "    <tr>\n",
       "      <th>10883</th>\n",
       "      <td>2012-12-19 21:00:00</td>\n",
       "      <td>4</td>\n",
       "      <td>0</td>\n",
       "      <td>1</td>\n",
       "      <td>1</td>\n",
       "      <td>13.94</td>\n",
       "      <td>15.910</td>\n",
       "      <td>61</td>\n",
       "      <td>15.0013</td>\n",
       "      <td>4</td>\n",
       "      <td>164</td>\n",
       "      <td>168</td>\n",
       "      <td>2012</td>\n",
       "      <td>12</td>\n",
       "      <td>19</td>\n",
       "      <td>21</td>\n",
       "    </tr>\n",
       "    <tr>\n",
       "      <th>10884</th>\n",
       "      <td>2012-12-19 22:00:00</td>\n",
       "      <td>4</td>\n",
       "      <td>0</td>\n",
       "      <td>1</td>\n",
       "      <td>1</td>\n",
       "      <td>13.94</td>\n",
       "      <td>17.425</td>\n",
       "      <td>61</td>\n",
       "      <td>6.0032</td>\n",
       "      <td>12</td>\n",
       "      <td>117</td>\n",
       "      <td>129</td>\n",
       "      <td>2012</td>\n",
       "      <td>12</td>\n",
       "      <td>19</td>\n",
       "      <td>22</td>\n",
       "    </tr>\n",
       "    <tr>\n",
       "      <th>10885</th>\n",
       "      <td>2012-12-19 23:00:00</td>\n",
       "      <td>4</td>\n",
       "      <td>0</td>\n",
       "      <td>1</td>\n",
       "      <td>1</td>\n",
       "      <td>13.12</td>\n",
       "      <td>16.665</td>\n",
       "      <td>66</td>\n",
       "      <td>8.9981</td>\n",
       "      <td>4</td>\n",
       "      <td>84</td>\n",
       "      <td>88</td>\n",
       "      <td>2012</td>\n",
       "      <td>12</td>\n",
       "      <td>19</td>\n",
       "      <td>23</td>\n",
       "    </tr>\n",
       "  </tbody>\n",
       "</table>\n",
       "<p>10886 rows × 16 columns</p>\n",
       "</div>"
      ],
      "text/plain": [
       "                 datetime  season  holiday  workingday  weather   temp  \\\n",
       "0     2011-01-01 00:00:00       1        0           0        1   9.84   \n",
       "1     2011-01-01 01:00:00       1        0           0        1   9.02   \n",
       "2     2011-01-01 02:00:00       1        0           0        1   9.02   \n",
       "3     2011-01-01 03:00:00       1        0           0        1   9.84   \n",
       "4     2011-01-01 04:00:00       1        0           0        1   9.84   \n",
       "...                   ...     ...      ...         ...      ...    ...   \n",
       "10881 2012-12-19 19:00:00       4        0           1        1  15.58   \n",
       "10882 2012-12-19 20:00:00       4        0           1        1  14.76   \n",
       "10883 2012-12-19 21:00:00       4        0           1        1  13.94   \n",
       "10884 2012-12-19 22:00:00       4        0           1        1  13.94   \n",
       "10885 2012-12-19 23:00:00       4        0           1        1  13.12   \n",
       "\n",
       "        atemp  humidity  windspeed  casual  registered  count  year  month  \\\n",
       "0      14.395        81     0.0000       3          13     16  2011      1   \n",
       "1      13.635        80     0.0000       8          32     40  2011      1   \n",
       "2      13.635        80     0.0000       5          27     32  2011      1   \n",
       "3      14.395        75     0.0000       3          10     13  2011      1   \n",
       "4      14.395        75     0.0000       0           1      1  2011      1   \n",
       "...       ...       ...        ...     ...         ...    ...   ...    ...   \n",
       "10881  19.695        50    26.0027       7         329    336  2012     12   \n",
       "10882  17.425        57    15.0013      10         231    241  2012     12   \n",
       "10883  15.910        61    15.0013       4         164    168  2012     12   \n",
       "10884  17.425        61     6.0032      12         117    129  2012     12   \n",
       "10885  16.665        66     8.9981       4          84     88  2012     12   \n",
       "\n",
       "       day  hour  \n",
       "0        1     0  \n",
       "1        1     1  \n",
       "2        1     2  \n",
       "3        1     3  \n",
       "4        1     4  \n",
       "...    ...   ...  \n",
       "10881   19    19  \n",
       "10882   19    20  \n",
       "10883   19    21  \n",
       "10884   19    22  \n",
       "10885   19    23  \n",
       "\n",
       "[10886 rows x 16 columns]"
      ]
     },
     "execution_count": 8,
     "metadata": {},
     "output_type": "execute_result"
    }
   ],
   "source": [
    "bike_df"
   ]
  },
  {
   "cell_type": "code",
   "execution_count": 9,
   "id": "b0ebec7b-82f3-44aa-ba41-48f5c1735fba",
   "metadata": {},
   "outputs": [
    {
     "data": {
      "text/html": [
       "<div>\n",
       "<style scoped>\n",
       "    .dataframe tbody tr th:only-of-type {\n",
       "        vertical-align: middle;\n",
       "    }\n",
       "\n",
       "    .dataframe tbody tr th {\n",
       "        vertical-align: top;\n",
       "    }\n",
       "\n",
       "    .dataframe thead th {\n",
       "        text-align: right;\n",
       "    }\n",
       "</style>\n",
       "<table border=\"1\" class=\"dataframe\">\n",
       "  <thead>\n",
       "    <tr style=\"text-align: right;\">\n",
       "      <th></th>\n",
       "      <th>season</th>\n",
       "      <th>holiday</th>\n",
       "      <th>workingday</th>\n",
       "      <th>weather</th>\n",
       "      <th>temp</th>\n",
       "      <th>atemp</th>\n",
       "      <th>humidity</th>\n",
       "      <th>windspeed</th>\n",
       "      <th>count</th>\n",
       "      <th>year</th>\n",
       "      <th>month</th>\n",
       "      <th>day</th>\n",
       "      <th>hour</th>\n",
       "    </tr>\n",
       "  </thead>\n",
       "  <tbody>\n",
       "    <tr>\n",
       "      <th>0</th>\n",
       "      <td>1</td>\n",
       "      <td>0</td>\n",
       "      <td>0</td>\n",
       "      <td>1</td>\n",
       "      <td>9.84</td>\n",
       "      <td>14.395</td>\n",
       "      <td>81</td>\n",
       "      <td>0.0000</td>\n",
       "      <td>16</td>\n",
       "      <td>2011</td>\n",
       "      <td>1</td>\n",
       "      <td>1</td>\n",
       "      <td>0</td>\n",
       "    </tr>\n",
       "    <tr>\n",
       "      <th>1</th>\n",
       "      <td>1</td>\n",
       "      <td>0</td>\n",
       "      <td>0</td>\n",
       "      <td>1</td>\n",
       "      <td>9.02</td>\n",
       "      <td>13.635</td>\n",
       "      <td>80</td>\n",
       "      <td>0.0000</td>\n",
       "      <td>40</td>\n",
       "      <td>2011</td>\n",
       "      <td>1</td>\n",
       "      <td>1</td>\n",
       "      <td>1</td>\n",
       "    </tr>\n",
       "    <tr>\n",
       "      <th>2</th>\n",
       "      <td>1</td>\n",
       "      <td>0</td>\n",
       "      <td>0</td>\n",
       "      <td>1</td>\n",
       "      <td>9.02</td>\n",
       "      <td>13.635</td>\n",
       "      <td>80</td>\n",
       "      <td>0.0000</td>\n",
       "      <td>32</td>\n",
       "      <td>2011</td>\n",
       "      <td>1</td>\n",
       "      <td>1</td>\n",
       "      <td>2</td>\n",
       "    </tr>\n",
       "    <tr>\n",
       "      <th>3</th>\n",
       "      <td>1</td>\n",
       "      <td>0</td>\n",
       "      <td>0</td>\n",
       "      <td>1</td>\n",
       "      <td>9.84</td>\n",
       "      <td>14.395</td>\n",
       "      <td>75</td>\n",
       "      <td>0.0000</td>\n",
       "      <td>13</td>\n",
       "      <td>2011</td>\n",
       "      <td>1</td>\n",
       "      <td>1</td>\n",
       "      <td>3</td>\n",
       "    </tr>\n",
       "    <tr>\n",
       "      <th>4</th>\n",
       "      <td>1</td>\n",
       "      <td>0</td>\n",
       "      <td>0</td>\n",
       "      <td>1</td>\n",
       "      <td>9.84</td>\n",
       "      <td>14.395</td>\n",
       "      <td>75</td>\n",
       "      <td>0.0000</td>\n",
       "      <td>1</td>\n",
       "      <td>2011</td>\n",
       "      <td>1</td>\n",
       "      <td>1</td>\n",
       "      <td>4</td>\n",
       "    </tr>\n",
       "    <tr>\n",
       "      <th>...</th>\n",
       "      <td>...</td>\n",
       "      <td>...</td>\n",
       "      <td>...</td>\n",
       "      <td>...</td>\n",
       "      <td>...</td>\n",
       "      <td>...</td>\n",
       "      <td>...</td>\n",
       "      <td>...</td>\n",
       "      <td>...</td>\n",
       "      <td>...</td>\n",
       "      <td>...</td>\n",
       "      <td>...</td>\n",
       "      <td>...</td>\n",
       "    </tr>\n",
       "    <tr>\n",
       "      <th>10881</th>\n",
       "      <td>4</td>\n",
       "      <td>0</td>\n",
       "      <td>1</td>\n",
       "      <td>1</td>\n",
       "      <td>15.58</td>\n",
       "      <td>19.695</td>\n",
       "      <td>50</td>\n",
       "      <td>26.0027</td>\n",
       "      <td>336</td>\n",
       "      <td>2012</td>\n",
       "      <td>12</td>\n",
       "      <td>19</td>\n",
       "      <td>19</td>\n",
       "    </tr>\n",
       "    <tr>\n",
       "      <th>10882</th>\n",
       "      <td>4</td>\n",
       "      <td>0</td>\n",
       "      <td>1</td>\n",
       "      <td>1</td>\n",
       "      <td>14.76</td>\n",
       "      <td>17.425</td>\n",
       "      <td>57</td>\n",
       "      <td>15.0013</td>\n",
       "      <td>241</td>\n",
       "      <td>2012</td>\n",
       "      <td>12</td>\n",
       "      <td>19</td>\n",
       "      <td>20</td>\n",
       "    </tr>\n",
       "    <tr>\n",
       "      <th>10883</th>\n",
       "      <td>4</td>\n",
       "      <td>0</td>\n",
       "      <td>1</td>\n",
       "      <td>1</td>\n",
       "      <td>13.94</td>\n",
       "      <td>15.910</td>\n",
       "      <td>61</td>\n",
       "      <td>15.0013</td>\n",
       "      <td>168</td>\n",
       "      <td>2012</td>\n",
       "      <td>12</td>\n",
       "      <td>19</td>\n",
       "      <td>21</td>\n",
       "    </tr>\n",
       "    <tr>\n",
       "      <th>10884</th>\n",
       "      <td>4</td>\n",
       "      <td>0</td>\n",
       "      <td>1</td>\n",
       "      <td>1</td>\n",
       "      <td>13.94</td>\n",
       "      <td>17.425</td>\n",
       "      <td>61</td>\n",
       "      <td>6.0032</td>\n",
       "      <td>129</td>\n",
       "      <td>2012</td>\n",
       "      <td>12</td>\n",
       "      <td>19</td>\n",
       "      <td>22</td>\n",
       "    </tr>\n",
       "    <tr>\n",
       "      <th>10885</th>\n",
       "      <td>4</td>\n",
       "      <td>0</td>\n",
       "      <td>1</td>\n",
       "      <td>1</td>\n",
       "      <td>13.12</td>\n",
       "      <td>16.665</td>\n",
       "      <td>66</td>\n",
       "      <td>8.9981</td>\n",
       "      <td>88</td>\n",
       "      <td>2012</td>\n",
       "      <td>12</td>\n",
       "      <td>19</td>\n",
       "      <td>23</td>\n",
       "    </tr>\n",
       "  </tbody>\n",
       "</table>\n",
       "<p>10886 rows × 13 columns</p>\n",
       "</div>"
      ],
      "text/plain": [
       "       season  holiday  workingday  weather   temp   atemp  humidity  \\\n",
       "0           1        0           0        1   9.84  14.395        81   \n",
       "1           1        0           0        1   9.02  13.635        80   \n",
       "2           1        0           0        1   9.02  13.635        80   \n",
       "3           1        0           0        1   9.84  14.395        75   \n",
       "4           1        0           0        1   9.84  14.395        75   \n",
       "...       ...      ...         ...      ...    ...     ...       ...   \n",
       "10881       4        0           1        1  15.58  19.695        50   \n",
       "10882       4        0           1        1  14.76  17.425        57   \n",
       "10883       4        0           1        1  13.94  15.910        61   \n",
       "10884       4        0           1        1  13.94  17.425        61   \n",
       "10885       4        0           1        1  13.12  16.665        66   \n",
       "\n",
       "       windspeed  count  year  month  day  hour  \n",
       "0         0.0000     16  2011      1    1     0  \n",
       "1         0.0000     40  2011      1    1     1  \n",
       "2         0.0000     32  2011      1    1     2  \n",
       "3         0.0000     13  2011      1    1     3  \n",
       "4         0.0000      1  2011      1    1     4  \n",
       "...          ...    ...   ...    ...  ...   ...  \n",
       "10881    26.0027    336  2012     12   19    19  \n",
       "10882    15.0013    241  2012     12   19    20  \n",
       "10883    15.0013    168  2012     12   19    21  \n",
       "10884     6.0032    129  2012     12   19    22  \n",
       "10885     8.9981     88  2012     12   19    23  \n",
       "\n",
       "[10886 rows x 13 columns]"
      ]
     },
     "execution_count": 9,
     "metadata": {},
     "output_type": "execute_result"
    }
   ],
   "source": [
    "bike_df.drop(columns=['datetime','casual','registered'],inplace=True)\n",
    "bike_df"
   ]
  },
  {
   "cell_type": "code",
   "execution_count": 10,
   "id": "29672fb3-9fcc-4f54-a97e-e559d29e8b08",
   "metadata": {},
   "outputs": [],
   "source": [
    "from sklearn.metrics import mean_squared_error, mean_absolute_error\n",
    "\n",
    "# log 값 변환시 NaN 등의 이슈로 log()가 아닌 log1p()를 이용해 RMSLE 계산\n",
    "def rmsle(y,pred):\n",
    "    log_y = np.log1p(y)\n",
    "    log_pred = np.log1p(pred)\n",
    "    squared_error = (log_y-log_pred)**2\n",
    "    rmsle = np.sqrt(np.mean(squared_error))\n",
    "    return rmsle\n",
    "\n",
    "# sklearn mean-squared-error를 이용해 rmse 계산\n",
    "def rmse(y,pred):\n",
    "    return np.sqrt(mean_squared_error(y,pred))\n",
    "\n",
    "def evaluate_regr(y,pred):\n",
    "    rmsle_val = rmsle(y,pred)\n",
    "    rmse_val = rmse(y,pred)\n",
    "    # MAE는 사이킷런의 mean_absolute_error()로 계산\n",
    "    mae_val = mean_absolute_error(y,pred)\n",
    "    print('RMSLE : {0:.3f}, RMSE : {1:.3f}, MAE : {2:.3f}'.format(rmsle_val,rmse_val,mae_val))"
   ]
  },
  {
   "cell_type": "code",
   "execution_count": 11,
   "id": "9004b22c-3952-4e81-9b7f-c9e6a9e4baa0",
   "metadata": {},
   "outputs": [
    {
     "data": {
      "text/plain": [
       "23.000000000000004"
      ]
     },
     "execution_count": 11,
     "metadata": {},
     "output_type": "execute_result"
    }
   ],
   "source": [
    "np.expm1(np.log1p(23))"
   ]
  },
  {
   "cell_type": "code",
   "execution_count": 12,
   "id": "4a31f45f-ba92-494e-8085-8081b7dab021",
   "metadata": {},
   "outputs": [],
   "source": [
    "from sklearn.model_selection import train_test_split, GridSearchCV\n",
    "from sklearn.linear_model import LinearRegression, Ridge, Lasso"
   ]
  },
  {
   "cell_type": "code",
   "execution_count": 13,
   "id": "329fdebe-f623-4ec8-b7e5-5c63e4dab0e1",
   "metadata": {},
   "outputs": [
    {
     "name": "stdout",
     "output_type": "stream",
     "text": [
      "RMSLE : 1.165, RMSE : 140.900, MAE : 105.924\n",
      "RMSLE : 1.165, RMSE : 140.900, MAE : 105.923\n",
      "RMSLE : 1.163, RMSE : 140.917, MAE : 105.565\n"
     ]
    },
    {
     "data": {
      "text/plain": [
       "(None, None, None)"
      ]
     },
     "execution_count": 13,
     "metadata": {},
     "output_type": "execute_result"
    }
   ],
   "source": [
    "# data set\n",
    "y = bike_df['count']\n",
    "X = bike_df.drop(columns=['count'])\n",
    "# train test split\n",
    "X_train, X_test, y_train, y_test = train_test_split(X,y,test_size=0.3,random_state=0)\n",
    "\n",
    "\n",
    "# model instance\n",
    "lr_reg = LinearRegression()\n",
    "ridge_reg = Ridge()\n",
    "lasso_reg = Lasso()\n",
    "\n",
    "# fitting and evaluate\n",
    "lr_reg.fit(X_train,y_train)\n",
    "ridge_reg.fit(X_train,y_train)\n",
    "lasso_reg.fit(X_train,y_train)\n",
    "\n",
    "lr_pred = lr_reg.predict(X_test)\n",
    "ridge_pred = ridge_reg.predict(X_test)\n",
    "lasso_pred = lasso_reg.predict(X_test)\n",
    "\n",
    "evaluate_regr(y_test,lr_pred),evaluate_regr(y_test,ridge_pred),evaluate_regr(y_test,lasso_pred)\n"
   ]
  },
  {
   "cell_type": "code",
   "execution_count": 14,
   "id": "e52ce72a-f61f-41a4-917c-5f08b199f897",
   "metadata": {},
   "outputs": [],
   "source": [
    "# 최상위 에러를 발생시킨 데이터 포인트 찾기\n",
    "def get_top_error_data(y_test,pred,n_tops=5):\n",
    "    result_df = pd.DataFrame(y_test.values, columns=['real_count'])\n",
    "    result_df['predicted_count'] = np.round(pred)\n",
    "    result_df['diff'] = np.abs(result_df['real_count']-result_df['predicted_count'])\n",
    "    print(result_df.sort_values('diff',ascending=False)[:n_tops])"
   ]
  },
  {
   "cell_type": "code",
   "execution_count": 15,
   "id": "1b3187d8-6663-44d5-87bc-05b6271afdf0",
   "metadata": {},
   "outputs": [
    {
     "name": "stdout",
     "output_type": "stream",
     "text": [
      "      real_count  predicted_count   diff\n",
      "1618         890            322.0  568.0\n",
      "3151         798            241.0  557.0\n",
      "966          884            327.0  557.0\n",
      "412          745            194.0  551.0\n",
      "2817         856            310.0  546.0\n"
     ]
    }
   ],
   "source": [
    "get_top_error_data(y_test,lr_pred)"
   ]
  },
  {
   "cell_type": "markdown",
   "id": "2dd2edb1-f7c0-4a9c-bf7b-c5872fb692a4",
   "metadata": {},
   "source": [
    "## y값을 로그처리 한후 분포 확인\n",
    "y값이 정규분포를 따르지 않는다면 로그처리를 해보는 것도 좋다</br>\n",
    "정규 분포를 따르지 않더라도 로그처리를 하게되면 정규분포에 조금은 가까워지는 경향이 있기 때문이다.</br>\n",
    "당연 성능을 평가하기 전에는 expm1()함수로 원래 스케일로 복원시켜야 한다."
   ]
  },
  {
   "cell_type": "code",
   "execution_count": 16,
   "id": "1a9a7d92-af7c-44c1-9dfc-118395f43a70",
   "metadata": {},
   "outputs": [
    {
     "data": {
      "text/plain": [
       "<AxesSubplot:>"
      ]
     },
     "execution_count": 16,
     "metadata": {},
     "output_type": "execute_result"
    },
    {
     "data": {
      "image/png": "[encoded data removed]",
      "text/plain": [
       "<Figure size 432x288 with 1 Axes>"
      ]
     },
     "metadata": {
      "needs_background": "light"
     },
     "output_type": "display_data"
    }
   ],
   "source": [
    "y.hist()"
   ]
  },
  {
   "cell_type": "code",
   "execution_count": 17,
   "id": "b6666556-8406-44a8-a020-f0701aa87916",
   "metadata": {},
   "outputs": [
    {
     "data": {
      "text/plain": [
       "<AxesSubplot:>"
      ]
     },
     "execution_count": 17,
     "metadata": {},
     "output_type": "execute_result"
    },
    {
     "data": {
      "image/png": "[encoded data removed]",
      "text/plain": [
       "<Figure size 432x288 with 1 Axes>"
      ]
     },
     "metadata": {
      "needs_background": "light"
     },
     "output_type": "display_data"
    }
   ],
   "source": [
    "y_log = np.log1p(y)\n",
    "y_log.hist()"
   ]
  },
  {
   "cell_type": "code",
   "execution_count": 18,
   "id": "cf7bb4d8-0ddc-4f67-bc50-3db942c22b97",
   "metadata": {},
   "outputs": [
    {
     "name": "stdout",
     "output_type": "stream",
     "text": [
      "lr_model\n",
      "RMSLE : 3.031, RMSE : 205.689, MAE : 149.596\n",
      "ridge_model\n",
      "RMSLE : 3.031, RMSE : 205.585, MAE : 149.552\n",
      "lasso_model\n",
      "RMSLE : 3.029, RMSE : 203.664, MAE : 148.680\n"
     ]
    }
   ],
   "source": [
    "\"\"\"\n",
    "로그 처리한 y데이터를 통해서 예측을 해보자\n",
    "\"\"\"\n",
    "\n",
    "y_log = np.log1p(y)\n",
    "# train test split\n",
    "X_train, X_test, y_train, y_test = train_test_split(X,y_log,test_size=0.3,random_state=0)\n",
    "\n",
    "\n",
    "# model instance\n",
    "lr_reg = LinearRegression()\n",
    "ridge_reg = Ridge(alpha=10)\n",
    "lasso_reg = Lasso(alpha=0.01)\n",
    "\n",
    "# fitting and evaluate\n",
    "lr_reg.fit(X_train,y_train)\n",
    "ridge_reg.fit(X_train,y_train)\n",
    "lasso_reg.fit(X_train,y_train)\n",
    "\n",
    "lr_pred = lr_reg.predict(X_test)\n",
    "ridge_pred = ridge_reg.predict(X_test)\n",
    "lasso_pred = lasso_reg.predict(X_test)\n",
    "\n",
    "lr_pred = np.expm1(lr_pred)\n",
    "ridge_pred = np.expm1(ridge_pred)\n",
    "lasso_pred = np.expm1(lasso_pred)\n",
    "\n",
    "print('lr_model')\n",
    "evaluate_regr(y_test,lr_pred)\n",
    "print('ridge_model')\n",
    "evaluate_regr(y_test,ridge_pred)\n",
    "print('lasso_model')\n",
    "evaluate_regr(y_test,lasso_pred)"
   ]
  },
  {
   "cell_type": "code",
   "execution_count": 19,
   "id": "d2e86e19-b472-4261-995d-28718bf71325",
   "metadata": {},
   "outputs": [
    {
     "data": {
      "text/plain": [
       "<AxesSubplot:>"
      ]
     },
     "execution_count": 19,
     "metadata": {},
     "output_type": "execute_result"
    },
    {
     "data": {
      "image/png": "[encoded data removed]",
      "text/plain": [
       "<Figure size 432x288 with 1 Axes>"
      ]
     },
     "metadata": {
      "needs_background": "light"
     },
     "output_type": "display_data"
    }
   ],
   "source": [
    "coef = pd.Series(lr_reg.coef_,index=X.columns)\n",
    "coef_sort = coef.sort_values(ascending=False)\n",
    "sns.barplot(x=coef_sort.values, y=coef_sort.index)"
   ]
  },
  {
   "cell_type": "code",
   "execution_count": 20,
   "id": "1bdee9be-4394-44cd-b4a9-e1d4807beed4",
   "metadata": {},
   "outputs": [],
   "source": [
    "# 'year', month', 'day', hour'등의 피처들을 One Hot Encoding\n",
    "X_features_ohe = pd.get_dummies(X, columns=['year', 'month','day', 'hour', 'holiday',\n",
    "                                              'workingday','season','weather'])\n",
    "\n"
   ]
  },
  {
   "cell_type": "code",
   "execution_count": 21,
   "id": "2b99f295-f469-46ae-aa9c-c0ae364a8247",
   "metadata": {},
   "outputs": [
    {
     "data": {
      "text/html": [
       "<div>\n",
       "<style scoped>\n",
       "    .dataframe tbody tr th:only-of-type {\n",
       "        vertical-align: middle;\n",
       "    }\n",
       "\n",
       "    .dataframe tbody tr th {\n",
       "        vertical-align: top;\n",
       "    }\n",
       "\n",
       "    .dataframe thead th {\n",
       "        text-align: right;\n",
       "    }\n",
       "</style>\n",
       "<table border=\"1\" class=\"dataframe\">\n",
       "  <thead>\n",
       "    <tr style=\"text-align: right;\">\n",
       "      <th></th>\n",
       "      <th>temp</th>\n",
       "      <th>atemp</th>\n",
       "      <th>humidity</th>\n",
       "      <th>windspeed</th>\n",
       "      <th>year_2011</th>\n",
       "      <th>year_2012</th>\n",
       "      <th>month_1</th>\n",
       "      <th>month_2</th>\n",
       "      <th>month_3</th>\n",
       "      <th>month_4</th>\n",
       "      <th>...</th>\n",
       "      <th>workingday_0</th>\n",
       "      <th>workingday_1</th>\n",
       "      <th>season_1</th>\n",
       "      <th>season_2</th>\n",
       "      <th>season_3</th>\n",
       "      <th>season_4</th>\n",
       "      <th>weather_1</th>\n",
       "      <th>weather_2</th>\n",
       "      <th>weather_3</th>\n",
       "      <th>weather_4</th>\n",
       "    </tr>\n",
       "  </thead>\n",
       "  <tbody>\n",
       "    <tr>\n",
       "      <th>0</th>\n",
       "      <td>9.84</td>\n",
       "      <td>14.395</td>\n",
       "      <td>81</td>\n",
       "      <td>0.0</td>\n",
       "      <td>1</td>\n",
       "      <td>0</td>\n",
       "      <td>1</td>\n",
       "      <td>0</td>\n",
       "      <td>0</td>\n",
       "      <td>0</td>\n",
       "      <td>...</td>\n",
       "      <td>1</td>\n",
       "      <td>0</td>\n",
       "      <td>1</td>\n",
       "      <td>0</td>\n",
       "      <td>0</td>\n",
       "      <td>0</td>\n",
       "      <td>1</td>\n",
       "      <td>0</td>\n",
       "      <td>0</td>\n",
       "      <td>0</td>\n",
       "    </tr>\n",
       "    <tr>\n",
       "      <th>1</th>\n",
       "      <td>9.02</td>\n",
       "      <td>13.635</td>\n",
       "      <td>80</td>\n",
       "      <td>0.0</td>\n",
       "      <td>1</td>\n",
       "      <td>0</td>\n",
       "      <td>1</td>\n",
       "      <td>0</td>\n",
       "      <td>0</td>\n",
       "      <td>0</td>\n",
       "      <td>...</td>\n",
       "      <td>1</td>\n",
       "      <td>0</td>\n",
       "      <td>1</td>\n",
       "      <td>0</td>\n",
       "      <td>0</td>\n",
       "      <td>0</td>\n",
       "      <td>1</td>\n",
       "      <td>0</td>\n",
       "      <td>0</td>\n",
       "      <td>0</td>\n",
       "    </tr>\n",
       "  </tbody>\n",
       "</table>\n",
       "<p>2 rows × 73 columns</p>\n",
       "</div>"
      ],
      "text/plain": [
       "   temp   atemp  humidity  windspeed  year_2011  year_2012  month_1  month_2  \\\n",
       "0  9.84  14.395        81        0.0          1          0        1        0   \n",
       "1  9.02  13.635        80        0.0          1          0        1        0   \n",
       "\n",
       "   month_3  month_4  ...  workingday_0  workingday_1  season_1  season_2  \\\n",
       "0        0        0  ...             1             0         1         0   \n",
       "1        0        0  ...             1             0         1         0   \n",
       "\n",
       "   season_3  season_4  weather_1  weather_2  weather_3  weather_4  \n",
       "0         0         0          1          0          0          0  \n",
       "1         0         0          1          0          0          0  \n",
       "\n",
       "[2 rows x 73 columns]"
      ]
     },
     "execution_count": 21,
     "metadata": {},
     "output_type": "execute_result"
    }
   ],
   "source": [
    "X_features_ohe.head(2)"
   ]
  },
  {
   "cell_type": "code",
   "execution_count": 22,
   "id": "a20a531d-1625-4a26-94f3-8f3157bd4b8f",
   "metadata": {},
   "outputs": [],
   "source": [
    "# 원핫인코딩된 데이터를 활용하여 데이터셋 분리\n",
    "X_train, X_test, y_train, y_test = train_test_split(X_features_ohe,y_log, test_size=0.3, random_state=0)"
   ]
  },
  {
   "cell_type": "code",
   "execution_count": 23,
   "id": "14a1194b-e794-4b81-871c-87c8a32b6c7b",
   "metadata": {},
   "outputs": [],
   "source": [
    "def get_model_predict(model,X_train,y_train,X_test,y_test,is_expm1=False):\n",
    "    model.fit(X_train,y_train)\n",
    "    pred = model.predict(X_test)\n",
    "    if is_expm1:\n",
    "        y_test = np.expm1(y_test)\n",
    "        pred = np.expm1(pred)\n",
    "    print('####{0}####'.format(model.__class__.__name__))\n",
    "    evaluate_regr(y_test,pred)"
   ]
  },
  {
   "cell_type": "code",
   "execution_count": 24,
   "id": "5701c7d3-2608-49fe-a653-818acb2c7a9f",
   "metadata": {},
   "outputs": [],
   "source": [
    "# model instance\n",
    "lr_reg = LinearRegression()\n",
    "ridge_reg = Ridge(alpha=10)\n",
    "lasso_reg = Lasso(alpha=0.01)"
   ]
  },
  {
   "cell_type": "code",
   "execution_count": 25,
   "id": "ccdd2b77-9f18-4769-804d-e236b922cb45",
   "metadata": {},
   "outputs": [
    {
     "name": "stdout",
     "output_type": "stream",
     "text": [
      "####LinearRegression####\n",
      "RMSLE : 0.590, RMSE : 97.687, MAE : 63.381\n",
      "####Ridge####\n",
      "RMSLE : 0.590, RMSE : 98.529, MAE : 63.893\n",
      "####Lasso####\n",
      "RMSLE : 0.635, RMSE : 113.219, MAE : 72.803\n"
     ]
    }
   ],
   "source": [
    "for model in [lr_reg,ridge_reg,lasso_reg]:\n",
    "    get_model_predict(model,X_train,y_train,X_test,y_test,is_expm1=True)"
   ]
  },
  {
   "cell_type": "code",
   "execution_count": 26,
   "id": "80517391-eafe-4dd4-8776-f5d58a7947ba",
   "metadata": {},
   "outputs": [
    {
     "data": {
      "text/plain": [
       "<AxesSubplot:>"
      ]
     },
     "execution_count": 26,
     "metadata": {},
     "output_type": "execute_result"
    },
    {
     "data": {
      "image/png": "[encoded data removed]",
      "text/plain": [
       "<Figure size 432x288 with 1 Axes>"
      ]
     },
     "metadata": {
      "needs_background": "light"
     },
     "output_type": "display_data"
    }
   ],
   "source": [
    "coef = pd.Series(lr_reg.coef_,X_features_ohe.columns)\n",
    "coef_sort = coef.sort_values(ascending=False)[:20]\n",
    "sns.barplot(x=coef_sort.values, y=coef_sort.index)"
   ]
  },
  {
   "cell_type": "markdown",
   "id": "99a648f5-4497-4789-bc9b-adef00ced693",
   "metadata": {},
   "source": [
    "## 분류기로 회귀 모델 생성하고 성능평가해보기\n",
    "사이킷런에서 제공하는 분류기들은 대부분 회귀도 가능하도록 설게되었다.</br>\n",
    "회귀모델을 생성하고 성능을 평가해보자"
   ]
  },
  {
   "cell_type": "code",
   "execution_count": 27,
   "id": "08e4dce5-c3b0-4587-8f47-af6dc07bd3c7",
   "metadata": {},
   "outputs": [],
   "source": [
    "from sklearn.ensemble import RandomForestRegressor, GradientBoostingRegressor\n",
    "from xgboost import XGBRegressor\n",
    "from lightgbm import LGBMRegressor"
   ]
  },
  {
   "cell_type": "code",
   "execution_count": 28,
   "id": "3fe76a9c-a13f-4403-965c-9425463e4215",
   "metadata": {},
   "outputs": [
    {
     "name": "stdout",
     "output_type": "stream",
     "text": [
      "####RandomForestRegressor####\n",
      "RMSLE : 0.355, RMSE : 50.439, MAE : 31.207\n",
      "####GradientBoostingRegressor####\n",
      "RMSLE : 0.330, RMSE : 53.342, MAE : 32.744\n",
      "####XGBRegressor####\n",
      "RMSLE : 0.342, RMSE : 51.732, MAE : 31.251\n",
      "####LGBMRegressor####\n",
      "RMSLE : 0.319, RMSE : 47.215, MAE : 29.029\n"
     ]
    }
   ],
   "source": [
    "rf_reg = RandomForestRegressor(n_estimators=500)\n",
    "gbm_reg = GradientBoostingRegressor(n_estimators=500)\n",
    "xgb_reg = XGBRegressor(n_estimators=500)\n",
    "lgbm_reg = LGBMRegressor(n_estimators=500)\n",
    "\n",
    "for model in [rf_reg,gbm_reg,xgb_reg,lgbm_reg]:\n",
    "    get_model_predict(model,X_train,y_train,X_test,y_test,is_expm1=True)"
   ]
  },
  {
   "cell_type": "code",
   "execution_count": null,
   "id": "54c5d57e-b3d0-46b3-b188-90bf122a66ea",
   "metadata": {},
   "outputs": [],
   "source": []
  }
 ],
 "metadata": {
  "kernelspec": {
   "display_name": "Python 3 (ipykernel)",
   "language": "python",
   "name": "python3"
  },
  "language_info": {
   "codemirror_mode": {
    "name": "ipython",
    "version": 3
   },
   "file_extension": ".py",
   "mimetype": "text/x-python",
   "name": "python",
   "nbconvert_exporter": "python",
   "pygments_lexer": "ipython3",
   "version": "3.9.7"
  }
 },
 "nbformat": 4,
 "nbformat_minor": 5
}
