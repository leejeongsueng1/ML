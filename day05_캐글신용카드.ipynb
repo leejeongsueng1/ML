{
 "cells": [
  {
   "cell_type": "markdown",
   "id": "fee9c342-fa30-4435-bc50-becab6a24cbe",
   "metadata": {},
   "source": [
    "# 캐글 신용카드사기 예측\n",
    "데이터가 1차적으로 처리되어 있고 \n",
    "PCA로 차원축소 및 익명화 되어있어 칼럼명을 알 수 없다."
   ]
  },
  {
   "cell_type": "markdown",
   "id": "63cdbc62-39df-4687-8151-320c88644f42",
   "metadata": {},
   "source": [
    "## 필요 모듈 import"
   ]
  },
  {
   "cell_type": "code",
   "execution_count": 1,
   "id": "b65d4a10-2914-4256-b582-569066c84024",
   "metadata": {},
   "outputs": [],
   "source": [
    "import pandas as pd\n",
    "import numpy as np\n",
    "import matplotlib.pyplot as plt\n",
    "import warnings\n",
    "warnings.filterwarnings('ignore')"
   ]
  },
  {
   "cell_type": "markdown",
   "id": "7c0dfa6d-c5c0-4d2f-8093-b824ccd98ba4",
   "metadata": {},
   "source": [
    "## 데이터 준비"
   ]
  },
  {
   "cell_type": "code",
   "execution_count": 2,
   "id": "b07c0c21-91bc-497a-a700-53f0a2ec3ea5",
   "metadata": {},
   "outputs": [],
   "source": [
    "card_df = pd.read_csv('data/creditcard.csv')"
   ]
  },
  {
   "cell_type": "code",
   "execution_count": 3,
   "id": "cd58d851-eea8-464b-a83c-3aab5e3bc33f",
   "metadata": {},
   "outputs": [
    {
     "name": "stdout",
     "output_type": "stream",
     "text": [
      "<class 'pandas.core.frame.DataFrame'>\n",
      "RangeIndex: 284807 entries, 0 to 284806\n",
      "Data columns (total 31 columns):\n",
      " #   Column  Non-Null Count   Dtype  \n",
      "---  ------  --------------   -----  \n",
      " 0   Time    284807 non-null  float64\n",
      " 1   V1      284807 non-null  float64\n",
      " 2   V2      284807 non-null  float64\n",
      " 3   V3      284807 non-null  float64\n",
      " 4   V4      284807 non-null  float64\n",
      " 5   V5      284807 non-null  float64\n",
      " 6   V6      284807 non-null  float64\n",
      " 7   V7      284807 non-null  float64\n",
      " 8   V8      284807 non-null  float64\n",
      " 9   V9      284807 non-null  float64\n",
      " 10  V10     284807 non-null  float64\n",
      " 11  V11     284807 non-null  float64\n",
      " 12  V12     284807 non-null  float64\n",
      " 13  V13     284807 non-null  float64\n",
      " 14  V14     284807 non-null  float64\n",
      " 15  V15     284807 non-null  float64\n",
      " 16  V16     284807 non-null  float64\n",
      " 17  V17     284807 non-null  float64\n",
      " 18  V18     284807 non-null  float64\n",
      " 19  V19     284807 non-null  float64\n",
      " 20  V20     284807 non-null  float64\n",
      " 21  V21     284807 non-null  float64\n",
      " 22  V22     284807 non-null  float64\n",
      " 23  V23     284807 non-null  float64\n",
      " 24  V24     284807 non-null  float64\n",
      " 25  V25     284807 non-null  float64\n",
      " 26  V26     284807 non-null  float64\n",
      " 27  V27     284807 non-null  float64\n",
      " 28  V28     284807 non-null  float64\n",
      " 29  Amount  284807 non-null  float64\n",
      " 30  Class   284807 non-null  int64  \n",
      "dtypes: float64(30), int64(1)\n",
      "memory usage: 67.4 MB\n"
     ]
    }
   ],
   "source": [
    "card_df.info()"
   ]
  },
  {
   "cell_type": "code",
   "execution_count": 4,
   "id": "c64a06fc-d0f8-41f5-8722-3ea9d11178f1",
   "metadata": {},
   "outputs": [
    {
     "data": {
      "text/html": [
       "<div>\n",
       "<style scoped>\n",
       "    .dataframe tbody tr th:only-of-type {\n",
       "        vertical-align: middle;\n",
       "    }\n",
       "\n",
       "    .dataframe tbody tr th {\n",
       "        vertical-align: top;\n",
       "    }\n",
       "\n",
       "    .dataframe thead th {\n",
       "        text-align: right;\n",
       "    }\n",
       "</style>\n",
       "<table border=\"1\" class=\"dataframe\">\n",
       "  <thead>\n",
       "    <tr style=\"text-align: right;\">\n",
       "      <th></th>\n",
       "      <th>Time</th>\n",
       "      <th>V1</th>\n",
       "      <th>V2</th>\n",
       "      <th>V3</th>\n",
       "      <th>V4</th>\n",
       "      <th>V5</th>\n",
       "      <th>V6</th>\n",
       "      <th>V7</th>\n",
       "      <th>V8</th>\n",
       "      <th>V9</th>\n",
       "      <th>...</th>\n",
       "      <th>V21</th>\n",
       "      <th>V22</th>\n",
       "      <th>V23</th>\n",
       "      <th>V24</th>\n",
       "      <th>V25</th>\n",
       "      <th>V26</th>\n",
       "      <th>V27</th>\n",
       "      <th>V28</th>\n",
       "      <th>Amount</th>\n",
       "      <th>Class</th>\n",
       "    </tr>\n",
       "  </thead>\n",
       "  <tbody>\n",
       "    <tr>\n",
       "      <th>0</th>\n",
       "      <td>0.0</td>\n",
       "      <td>-1.359807</td>\n",
       "      <td>-0.072781</td>\n",
       "      <td>2.536347</td>\n",
       "      <td>1.378155</td>\n",
       "      <td>-0.338321</td>\n",
       "      <td>0.462388</td>\n",
       "      <td>0.239599</td>\n",
       "      <td>0.098698</td>\n",
       "      <td>0.363787</td>\n",
       "      <td>...</td>\n",
       "      <td>-0.018307</td>\n",
       "      <td>0.277838</td>\n",
       "      <td>-0.110474</td>\n",
       "      <td>0.066928</td>\n",
       "      <td>0.128539</td>\n",
       "      <td>-0.189115</td>\n",
       "      <td>0.133558</td>\n",
       "      <td>-0.021053</td>\n",
       "      <td>149.62</td>\n",
       "      <td>0</td>\n",
       "    </tr>\n",
       "    <tr>\n",
       "      <th>1</th>\n",
       "      <td>0.0</td>\n",
       "      <td>1.191857</td>\n",
       "      <td>0.266151</td>\n",
       "      <td>0.166480</td>\n",
       "      <td>0.448154</td>\n",
       "      <td>0.060018</td>\n",
       "      <td>-0.082361</td>\n",
       "      <td>-0.078803</td>\n",
       "      <td>0.085102</td>\n",
       "      <td>-0.255425</td>\n",
       "      <td>...</td>\n",
       "      <td>-0.225775</td>\n",
       "      <td>-0.638672</td>\n",
       "      <td>0.101288</td>\n",
       "      <td>-0.339846</td>\n",
       "      <td>0.167170</td>\n",
       "      <td>0.125895</td>\n",
       "      <td>-0.008983</td>\n",
       "      <td>0.014724</td>\n",
       "      <td>2.69</td>\n",
       "      <td>0</td>\n",
       "    </tr>\n",
       "  </tbody>\n",
       "</table>\n",
       "<p>2 rows × 31 columns</p>\n",
       "</div>"
      ],
      "text/plain": [
       "   Time        V1        V2        V3        V4        V5        V6        V7  \\\n",
       "0   0.0 -1.359807 -0.072781  2.536347  1.378155 -0.338321  0.462388  0.239599   \n",
       "1   0.0  1.191857  0.266151  0.166480  0.448154  0.060018 -0.082361 -0.078803   \n",
       "\n",
       "         V8        V9  ...       V21       V22       V23       V24       V25  \\\n",
       "0  0.098698  0.363787  ... -0.018307  0.277838 -0.110474  0.066928  0.128539   \n",
       "1  0.085102 -0.255425  ... -0.225775 -0.638672  0.101288 -0.339846  0.167170   \n",
       "\n",
       "        V26       V27       V28  Amount  Class  \n",
       "0 -0.189115  0.133558 -0.021053  149.62      0  \n",
       "1  0.125895 -0.008983  0.014724    2.69      0  \n",
       "\n",
       "[2 rows x 31 columns]"
      ]
     },
     "execution_count": 4,
     "metadata": {},
     "output_type": "execute_result"
    }
   ],
   "source": [
    "card_df.head(2)"
   ]
  },
  {
   "cell_type": "markdown",
   "id": "7616cea2-fff7-4165-9fb5-7a4da693611c",
   "metadata": {},
   "source": [
    "## 데이터 전처리"
   ]
  },
  {
   "cell_type": "code",
   "execution_count": 5,
   "id": "4b41047c-7505-44a4-8e58-92af4838ef60",
   "metadata": {},
   "outputs": [],
   "source": [
    "from sklearn.model_selection import train_test_split"
   ]
  },
  {
   "cell_type": "code",
   "execution_count": 6,
   "id": "22e0a309-1857-4250-b833-84bf2960d96b",
   "metadata": {},
   "outputs": [],
   "source": [
    "def get_preprocessed_df(df=None):\n",
    "    df_copy = df.copy()\n",
    "    df_copy.drop(columns=['Time'], inplace=True)\n",
    "    return df_copy"
   ]
  },
  {
   "cell_type": "code",
   "execution_count": 7,
   "id": "04501d23-a652-47e2-b1f4-8afbb15a0b7b",
   "metadata": {},
   "outputs": [],
   "source": [
    "def get_train_test_dataset(df=None):\n",
    "    df_copy = get_preprocessed_df(df)\n",
    "    X = df_copy.iloc[:,:-1]\n",
    "    y = df_copy.iloc[:,-1]\n",
    "    \n",
    "    X_train,X_test,y_train,y_test = train_test_split(X,\n",
    "                                                     y,\n",
    "                                                     test_size=0.3,\n",
    "                                                     random_state=0,\n",
    "                                                     stratify=y)\n",
    "    return X_train,X_test,y_train,y_test"
   ]
  },
  {
   "cell_type": "code",
   "execution_count": 8,
   "id": "efe774a9-e32f-4bf0-a33d-0d4d06f78fa4",
   "metadata": {},
   "outputs": [],
   "source": [
    "X_train,X_test,y_train,y_test = get_train_test_dataset(card_df)"
   ]
  },
  {
   "cell_type": "code",
   "execution_count": 9,
   "id": "ae7fa4b7-b5ec-4417-b81b-4a6e6594524a",
   "metadata": {
    "tags": []
   },
   "outputs": [
    {
     "data": {
      "text/plain": [
       "0    99.827451\n",
       "1     0.172549\n",
       "Name: Class, dtype: float64"
      ]
     },
     "execution_count": 9,
     "metadata": {},
     "output_type": "execute_result"
    }
   ],
   "source": [
    "y_train.value_counts() / y_train.shape[0] * 100"
   ]
  },
  {
   "cell_type": "code",
   "execution_count": 10,
   "id": "dcba9de9-2a84-4630-9373-2113740c7da6",
   "metadata": {},
   "outputs": [
    {
     "data": {
      "text/plain": [
       "0    99.826785\n",
       "1     0.173215\n",
       "Name: Class, dtype: float64"
      ]
     },
     "execution_count": 10,
     "metadata": {},
     "output_type": "execute_result"
    }
   ],
   "source": [
    "y_test.value_counts() / y_test.shape[0] * 100"
   ]
  },
  {
   "cell_type": "markdown",
   "id": "90613563-8e16-4da6-977c-1254719356da",
   "metadata": {},
   "source": [
    "## 로지스틱회귀를 통한 분류모델 생성"
   ]
  },
  {
   "cell_type": "code",
   "execution_count": 11,
   "id": "f8449386-d823-43c5-a8a0-612f094a5c91",
   "metadata": {},
   "outputs": [],
   "source": [
    "from sklearn.linear_model import LogisticRegression"
   ]
  },
  {
   "cell_type": "code",
   "execution_count": 12,
   "id": "2bf4bf69-d2ad-4544-8e2c-ecb67e928a2f",
   "metadata": {},
   "outputs": [],
   "source": [
    "lr_clf = LogisticRegression()"
   ]
  },
  {
   "cell_type": "code",
   "execution_count": 13,
   "id": "7c0157d3-a227-4075-83d2-861d107da026",
   "metadata": {},
   "outputs": [],
   "source": [
    "def get_clf_eval(y_test,pred,pred_proba):\n",
    "    from sklearn.metrics import confusion_matrix, accuracy_score, precision_score, recall_score, f1_score, roc_auc_score\n",
    "    confusion = confusion_matrix(y_test,pred)\n",
    "    accuracy = accuracy_score(y_test,pred)\n",
    "    precision = precision_score(y_test,pred)\n",
    "    recall = recall_score(y_test,pred)\n",
    "    f1 = f1_score(y_test,pred)\n",
    "    auc = roc_auc_score(y_test,pred_proba)\n",
    "    print('오차행렬')\n",
    "    print(confusion)\n",
    "    print(f'정확도: {accuracy:.4f}, 정밀도: {precision:.4f}, 재현율:{recall:.4f}, f1-스코어:{f1:.4f}, auc스코어:{auc:.4f}')"
   ]
  },
  {
   "cell_type": "code",
   "execution_count": 14,
   "id": "3540d76b-5c66-4ffc-846f-eb5ebaaaa633",
   "metadata": {},
   "outputs": [],
   "source": [
    "def get_model_train_eval(model, X_train,X_test,y_train,y_test):\n",
    "    model.fit(X_train, y_train)\n",
    "    pred = model.predict(X_test)\n",
    "    pred_proba = model.predict_proba(X_test)[:,1]\n",
    "    get_clf_eval(y_test,pred,pred_proba)"
   ]
  },
  {
   "cell_type": "code",
   "execution_count": 15,
   "id": "3f95b775-99fe-4ffd-bda5-94a0c5c7ff2f",
   "metadata": {},
   "outputs": [
    {
     "name": "stdout",
     "output_type": "stream",
     "text": [
      "오차행렬\n",
      "[[85279    16]\n",
      " [   58    90]]\n",
      "정확도: 0.9991, 정밀도: 0.8491, 재현율:0.6081, f1-스코어:0.7087, auc스코어:0.9589\n"
     ]
    }
   ],
   "source": [
    "get_model_train_eval(lr_clf, X_train,X_test,y_train,y_test)"
   ]
  },
  {
   "cell_type": "markdown",
   "id": "b4de066e-4a72-4b19-9fe6-7b20d4bdcc5b",
   "metadata": {},
   "source": [
    "## LGBM를 통한 분류모델 생성"
   ]
  },
  {
   "cell_type": "code",
   "execution_count": 16,
   "id": "89cc6bbf-57e4-4078-920e-9d899e2cc5c9",
   "metadata": {},
   "outputs": [],
   "source": [
    "from lightgbm import LGBMClassifier"
   ]
  },
  {
   "cell_type": "code",
   "execution_count": 17,
   "id": "ee9e20b4-cd7f-4891-b16e-8f59477f1c0d",
   "metadata": {},
   "outputs": [],
   "source": [
    "lgbm_clf = LGBMClassifier(n_estimators=1000,\n",
    "                         num_leaves=64,\n",
    "                         n_jobs=-1,\n",
    "                         boost_from_average=False)"
   ]
  },
  {
   "cell_type": "code",
   "execution_count": 18,
   "id": "62cb04f5-5f92-4b36-85f8-74135270771f",
   "metadata": {},
   "outputs": [
    {
     "name": "stdout",
     "output_type": "stream",
     "text": [
      "오차행렬\n",
      "[[85290     5]\n",
      " [   36   112]]\n",
      "정확도: 0.9995, 정밀도: 0.9573, 재현율:0.7568, f1-스코어:0.8453, auc스코어:0.9790\n"
     ]
    }
   ],
   "source": [
    "get_model_train_eval(lgbm_clf, X_train,X_test,y_train,y_test)"
   ]
  },
  {
   "cell_type": "markdown",
   "id": "d9cd4dd9-1493-4d14-be24-548b75a1f2b0",
   "metadata": {},
   "source": [
    "## Amount의 분포 확인"
   ]
  },
  {
   "cell_type": "code",
   "execution_count": 19,
   "id": "fa212c48-612e-4a1d-ad10-faee5b7b6bc1",
   "metadata": {},
   "outputs": [],
   "source": [
    "import seaborn as sns"
   ]
  },
  {
   "cell_type": "code",
   "execution_count": 20,
   "id": "7042321a-362d-461e-8808-d7333518956f",
   "metadata": {},
   "outputs": [
    {
     "data": {
      "text/plain": [
       "<AxesSubplot:xlabel='Amount', ylabel='Density'>"
      ]
     },
     "execution_count": 20,
     "metadata": {},
     "output_type": "execute_result"
    },
    {
     "data": {
      "image/png": "[encoded data removed]",
      "text/plain": [
       "<Figure size 576x288 with 1 Axes>"
      ]
     },
     "metadata": {
      "needs_background": "light"
     },
     "output_type": "display_data"
    }
   ],
   "source": [
    "plt.figure(figsize=(8,4))\n",
    "plt.xticks(range(0,30000,1000), rotation=60)\n",
    "sns.distplot(card_df['Amount'])"
   ]
  },
  {
   "cell_type": "code",
   "execution_count": 21,
   "id": "e0c66a7d-327b-4e7b-81a7-ae1b02028e4c",
   "metadata": {},
   "outputs": [],
   "source": [
    "from sklearn.preprocessing import StandardScaler"
   ]
  },
  {
   "cell_type": "code",
   "execution_count": 22,
   "id": "ebf67f56-fd39-4cd3-aa61-3b840f30ec9a",
   "metadata": {},
   "outputs": [],
   "source": [
    "card_df = pd.read_csv('data/creditcard.csv')"
   ]
  },
  {
   "cell_type": "code",
   "execution_count": 23,
   "id": "72d8fafc-d875-4cba-8e41-d2d7a7d15b5c",
   "metadata": {},
   "outputs": [],
   "source": [
    "def get_preprocessed_df(df=None):\n",
    "    df_copy = df.copy()\n",
    "    scaler = StandardScaler()\n",
    "    amount_n = scaler.fit_transform(df_copy['Amount'].values.reshape(-1,1))\n",
    "    df_copy.insert(0,'Amount_Scaled',amount_n)\n",
    "    df_copy.drop(columns=['Time'], inplace=True)\n",
    "    return df_copy"
   ]
  },
  {
   "cell_type": "code",
   "execution_count": 24,
   "id": "1d59b549-574e-4466-8f87-48aa67861798",
   "metadata": {},
   "outputs": [],
   "source": [
    "def get_train_test_dataset(df=None):\n",
    "    df_copy = get_preprocessed_df(df)\n",
    "    X = df_copy.iloc[:,:-1]\n",
    "    y = df_copy.iloc[:,-1]\n",
    "    \n",
    "    X_train,X_test,y_train,y_test = train_test_split(X,\n",
    "                                                     y,\n",
    "                                                     test_size=0.3,\n",
    "                                                     random_state=0,\n",
    "                                                     stratify=y)\n",
    "    return X_train,X_test,y_train,y_test"
   ]
  },
  {
   "cell_type": "code",
   "execution_count": 25,
   "id": "8b4fcb35-95aa-4e12-88c2-cddec1d4edf3",
   "metadata": {
    "collapsed": true,
    "jupyter": {
     "outputs_hidden": true
    },
    "tags": []
   },
   "outputs": [
    {
     "data": {
      "text/plain": [
       "(        Amount_Scaled        V1        V2        V3        V4        V5  \\\n",
       " 211605      -0.350471 -8.367621  7.402969 -5.114191 -2.966792 -0.985904   \n",
       " 231628      -0.131456 -1.290662  0.764452 -0.169233 -1.688528  1.984718   \n",
       " 110643      -0.307251 -0.606860  0.233923  2.633361 -0.155762 -0.328850   \n",
       " 11478       -0.313249  1.374168 -0.330389  0.812971 -0.183112 -1.074771   \n",
       " 243724       8.802588 -2.146505 -7.603113 -4.928224  1.449173 -2.083871   \n",
       " ...               ...       ...       ...       ...       ...       ...   \n",
       " 88290       -0.293938 -1.993953  1.734986 -1.108037 -2.671817  1.605319   \n",
       " 22346       -0.342914 -0.440396  1.062920  1.582218 -0.029761  0.040967   \n",
       " 269968       2.637499  0.827820 -2.649344 -3.161235  0.209209 -0.561331   \n",
       " 175960       6.729380 -1.523903 -6.287060 -2.638246  1.330015 -1.672002   \n",
       " 47973        0.413604 -1.608560  0.132746  2.075995 -1.937332 -1.822305   \n",
       " \n",
       "               V6        V7        V8        V9  ...       V20       V21  \\\n",
       " 211605 -1.660018  0.397816  1.008250  5.290976  ...  3.589299 -0.557927   \n",
       " 231628 -0.717210  1.667635 -0.228295 -0.959071  ...  0.057620  0.138615   \n",
       " 110643 -0.070593  0.173023  0.113394  0.680147  ... -0.129287  0.007393   \n",
       " 11478  -0.933788 -0.544238 -0.348237  0.614925  ...  0.078163 -0.134742   \n",
       " 243724 -0.984759  3.629816 -1.302973 -1.434148  ...  4.009181  1.274986   \n",
       " ...          ...       ...       ...       ...  ...       ...       ...   \n",
       " 88290   3.041992 -0.417771  1.438007  0.945437  ...  0.775705 -0.303532   \n",
       " 22346  -0.903627  0.730326 -0.108175 -0.513163  ...  0.158754 -0.215794   \n",
       " 269968 -1.570386  1.612531 -0.930219 -1.318562  ...  0.892558  0.349915   \n",
       " 175960  1.957509  1.359226  0.081727  0.753151  ...  3.298835  1.329127   \n",
       " 47973  -0.429669  0.247042  0.684452  1.177470  ...  0.186211  0.465181   \n",
       " \n",
       "              V22       V23       V24       V25       V26       V27       V28  \\\n",
       " 211605  0.349087  0.301734  0.662330  1.145939 -0.012273  1.513736  0.669504   \n",
       " 231628  0.390374 -0.678774  0.292254  1.425865  0.265341  0.051405  0.103879   \n",
       " 110643  0.265045 -0.040615  0.406088 -0.498823  0.121851 -0.046840 -0.087259   \n",
       " 11478   0.016793  0.002610  0.714527  0.536175 -0.307487 -0.003555  0.013024   \n",
       " 243724 -0.857670 -2.109682  0.169338 -0.322888  0.777822 -0.552258  0.304777   \n",
       " ...          ...       ...       ...       ...       ...       ...       ...   \n",
       " 88290  -0.708199  0.047110  1.008409  0.234363  0.768581  0.697625  0.354542   \n",
       " 22346  -0.532224 -0.024762  0.382581 -0.164620  0.068836  0.269144  0.123483   \n",
       " 269968  0.002268 -0.746698  0.171847  0.247576  0.936557 -0.258164  0.037868   \n",
       " 175960  0.001210 -1.360187 -1.507703 -1.183927  0.578076 -0.328557  0.229935   \n",
       " 47973   1.017280  0.173478  0.570107  0.504597 -0.659853  0.175060  0.092039   \n",
       " \n",
       "          Amount  \n",
       " 211605     0.69  \n",
       " 231628    55.47  \n",
       " 110643    11.50  \n",
       " 11478     10.00  \n",
       " 243724  2290.05  \n",
       " ...         ...  \n",
       " 88290     14.83  \n",
       " 22346      2.58  \n",
       " 269968   748.04  \n",
       " 175960  1771.50  \n",
       " 47973    191.80  \n",
       " \n",
       " [199364 rows x 30 columns],\n",
       "         Amount_Scaled        V1        V2        V3        V4        V5  \\\n",
       " 170978      -0.303253  0.101337  0.665808 -0.514168 -0.675752  1.087999   \n",
       " 96185       -0.313249 -1.678212  1.244794  0.947874 -2.101099 -0.811015   \n",
       " 30469       -0.233487 -1.407998 -0.094725  1.218361 -1.884626  0.639017   \n",
       " 266925      -0.152246  2.025163 -1.001783 -0.855068 -0.506527 -0.793876   \n",
       " 14185        1.166043  0.477071 -1.295023  0.586617  1.599474 -1.215659   \n",
       " ...               ...       ...       ...       ...       ...       ...   \n",
       " 116600      -0.349671 -0.289381  1.125321  1.446190  0.446241  0.205071   \n",
       " 137239      -0.305772 -0.744587  1.143912  1.113239  1.064208 -0.271394   \n",
       " 184018      -0.338077  2.007609 -0.014725 -0.857372  1.824368  0.188343   \n",
       " 64742       -0.352950  1.079943 -0.156823  1.288267  1.166740 -0.918791   \n",
       " 259262      -0.293258  2.223422 -0.632968 -1.295563 -0.870125 -0.575393   \n",
       " \n",
       "               V6        V7        V8        V9  ...       V20       V21  \\\n",
       " 170978 -0.681790  0.877323 -0.096356  0.265313  ... -0.177718  0.114197   \n",
       " 96185  -1.037444  0.144664  0.465090 -1.137320  ... -0.246449 -0.383548   \n",
       " 30469  -1.127801  0.537467 -0.295973 -1.670308  ... -0.126990  0.295294   \n",
       " 266925 -0.197866 -0.779789  0.032557 -0.357041  ... -0.519001 -0.298900   \n",
       " 14185   0.114858 -0.178181  0.090062  0.944582  ...  0.543494  0.299761   \n",
       " ...          ...       ...       ...       ...  ...       ...       ...   \n",
       " 116600 -0.870060  0.716579 -0.195459 -0.825199  ...  0.152209 -0.155482   \n",
       " 137239 -0.181684  0.143960  0.485779 -0.094435  ...  0.046142  0.039445   \n",
       " 184018  0.055245 -0.140535 -0.051169 -0.646238  ... -0.129969  0.013991   \n",
       " 64742   0.350468 -0.823391  0.400647  0.680817  ... -0.246535  0.200586   \n",
       " 259262 -1.432570 -0.256553 -0.473604 -0.631816  ...  0.009197  0.441590   \n",
       " \n",
       "              V22       V23       V24       V25       V26       V27       V28  \\\n",
       " 170978  0.500593 -0.066669  0.558720 -0.518068  0.367070  0.079707  0.131678   \n",
       " 96185  -0.581462  0.033139  0.483823 -0.039289  0.078483  0.486383  0.291222   \n",
       " 30469   0.836930 -0.367286  0.157457  0.840789 -0.160280 -0.210861  0.103780   \n",
       " 266925 -0.427423  0.298094  0.747735 -0.426508  0.500501 -0.051892 -0.048338   \n",
       " 14185   0.114989 -0.461395 -0.122341  0.381628 -0.245921 -0.013775  0.092648   \n",
       " ...          ...       ...       ...       ...       ...       ...       ...   \n",
       " 116600 -0.404762 -0.003454  0.383924 -0.530454  0.112610  0.123216  0.159743   \n",
       " 137239  0.342459 -0.184389  0.060572  0.012478 -0.238599  0.307328  0.142071   \n",
       " 184018  0.209744  0.107892 -0.351920 -0.294630  2.347521 -0.196798 -0.099440   \n",
       " 64742   0.712738 -0.030159  0.209327  0.344709 -0.253887  0.075692  0.020761   \n",
       " 259262  1.328749 -0.020945  0.125893  0.224582  0.063735 -0.034914 -0.063894   \n",
       " \n",
       "         Amount  \n",
       " 170978   12.50  \n",
       " 96185    10.00  \n",
       " 30469    29.95  \n",
       " 266925   50.27  \n",
       " 14185   380.00  \n",
       " ...        ...  \n",
       " 116600    0.89  \n",
       " 137239   11.87  \n",
       " 184018    3.79  \n",
       " 64742     0.07  \n",
       " 259262   15.00  \n",
       " \n",
       " [85443 rows x 30 columns],\n",
       " 211605    0\n",
       " 231628    0\n",
       " 110643    0\n",
       " 11478     0\n",
       " 243724    0\n",
       "          ..\n",
       " 88290     0\n",
       " 22346     0\n",
       " 269968    0\n",
       " 175960    0\n",
       " 47973     0\n",
       " Name: Class, Length: 199364, dtype: int64,\n",
       " 170978    0\n",
       " 96185     0\n",
       " 30469     0\n",
       " 266925    0\n",
       " 14185     0\n",
       "          ..\n",
       " 116600    0\n",
       " 137239    0\n",
       " 184018    0\n",
       " 64742     0\n",
       " 259262    0\n",
       " Name: Class, Length: 85443, dtype: int64)"
      ]
     },
     "execution_count": 25,
     "metadata": {},
     "output_type": "execute_result"
    }
   ],
   "source": [
    "X_train,X_test,y_train,y_test = get_train_test_dataset(card_df)\n",
    "X_train,X_test,y_train,y_test"
   ]
  },
  {
   "cell_type": "code",
   "execution_count": 26,
   "id": "bcd20480-6b79-4d47-9c16-2cb84a1345e3",
   "metadata": {},
   "outputs": [
    {
     "name": "stdout",
     "output_type": "stream",
     "text": [
      "오차행렬\n",
      "[[85283    12]\n",
      " [   59    89]]\n",
      "정확도: 0.9992, 정밀도: 0.8812, 재현율:0.6014, f1-스코어:0.7149, auc스코어:0.9648\n"
     ]
    }
   ],
   "source": [
    "get_model_train_eval(lr_clf, X_train,X_test,y_train,y_test)"
   ]
  },
  {
   "cell_type": "code",
   "execution_count": 27,
   "id": "c01d5bc5-0c95-4472-812d-79acda59ba08",
   "metadata": {},
   "outputs": [],
   "source": [
    "lgbm_clf = LGBMClassifier(n_estimators=1000,\n",
    "                         num_leaves=64,\n",
    "                         n_jobs=-1,\n",
    "                         boost_from_average=False)"
   ]
  },
  {
   "cell_type": "code",
   "execution_count": 28,
   "id": "82fc3547-d43b-4dfd-9c11-961b190f3c8d",
   "metadata": {},
   "outputs": [
    {
     "name": "stdout",
     "output_type": "stream",
     "text": [
      "오차행렬\n",
      "[[85290     5]\n",
      " [   36   112]]\n",
      "정확도: 0.9995, 정밀도: 0.9573, 재현율:0.7568, f1-스코어:0.8453, auc스코어:0.9812\n"
     ]
    }
   ],
   "source": [
    "get_model_train_eval(lgbm_clf, X_train,X_test,y_train,y_test)"
   ]
  },
  {
   "cell_type": "markdown",
   "id": "0f66a898-6f99-4c4d-bd40-0c33264e289d",
   "metadata": {},
   "source": [
    "## Logistic Regression\n",
    "### 변환 전\n",
    "정확도: 0.9991, 정밀도: 0.8491, 재현율:0.6081, f1-스코어:0.7087, auc스코어:0.9589\n",
    "### 변환 후\n",
    "정확도: 0.9992, 정밀도: 0.8812, 재현율:0.6014, f1-스코어:0.7149, auc스코어:0.9648\n",
    "## LightGBM\n",
    "### 변환 전\n",
    "정확도: 0.9995, 정밀도: 0.9573, 재현율:0.7568, f1-스코어:0.8453, auc스코어:0.9790\n",
    "### 변환 후\n",
    "정확도: 0.9995, 정밀도: 0.9573, 재현율:0.7568, f1-스코어:0.8453, auc스코어:0.9812"
   ]
  },
  {
   "cell_type": "markdown",
   "id": "7a15cdd9-837a-4e75-88dc-630c061e3848",
   "metadata": {},
   "source": [
    "## 로그변환 Log scaling"
   ]
  },
  {
   "cell_type": "code",
   "execution_count": 29,
   "id": "cd254cd1-7bbf-411e-a466-2c9dd75b2df4",
   "metadata": {},
   "outputs": [],
   "source": [
    "def get_preprocessed_df(df=None):\n",
    "    df_copy = df.copy()\n",
    "    amount_n = np.log1p(df_copy['Amount'])\n",
    "    df_copy.insert(0,'Amount_Scaled',amount_n)\n",
    "    df_copy.drop(columns=['Time'], inplace=True)\n",
    "    return df_copy"
   ]
  },
  {
   "cell_type": "code",
   "execution_count": 30,
   "id": "37a47704-d7dd-41f9-9443-536bf41d41eb",
   "metadata": {},
   "outputs": [
    {
     "data": {
      "text/html": [
       "<div>\n",
       "<style scoped>\n",
       "    .dataframe tbody tr th:only-of-type {\n",
       "        vertical-align: middle;\n",
       "    }\n",
       "\n",
       "    .dataframe tbody tr th {\n",
       "        vertical-align: top;\n",
       "    }\n",
       "\n",
       "    .dataframe thead th {\n",
       "        text-align: right;\n",
       "    }\n",
       "</style>\n",
       "<table border=\"1\" class=\"dataframe\">\n",
       "  <thead>\n",
       "    <tr style=\"text-align: right;\">\n",
       "      <th></th>\n",
       "      <th>Amount_Scaled</th>\n",
       "      <th>V1</th>\n",
       "      <th>V2</th>\n",
       "      <th>V3</th>\n",
       "      <th>V4</th>\n",
       "      <th>V5</th>\n",
       "      <th>V6</th>\n",
       "      <th>V7</th>\n",
       "      <th>V8</th>\n",
       "      <th>V9</th>\n",
       "      <th>...</th>\n",
       "      <th>V20</th>\n",
       "      <th>V21</th>\n",
       "      <th>V22</th>\n",
       "      <th>V23</th>\n",
       "      <th>V24</th>\n",
       "      <th>V25</th>\n",
       "      <th>V26</th>\n",
       "      <th>V27</th>\n",
       "      <th>V28</th>\n",
       "      <th>Amount</th>\n",
       "    </tr>\n",
       "  </thead>\n",
       "  <tbody>\n",
       "    <tr>\n",
       "      <th>211605</th>\n",
       "      <td>0.524729</td>\n",
       "      <td>-8.367621</td>\n",
       "      <td>7.402969</td>\n",
       "      <td>-5.114191</td>\n",
       "      <td>-2.966792</td>\n",
       "      <td>-0.985904</td>\n",
       "      <td>-1.660018</td>\n",
       "      <td>0.397816</td>\n",
       "      <td>1.008250</td>\n",
       "      <td>5.290976</td>\n",
       "      <td>...</td>\n",
       "      <td>3.589299</td>\n",
       "      <td>-0.557927</td>\n",
       "      <td>0.349087</td>\n",
       "      <td>0.301734</td>\n",
       "      <td>0.662330</td>\n",
       "      <td>1.145939</td>\n",
       "      <td>-0.012273</td>\n",
       "      <td>1.513736</td>\n",
       "      <td>0.669504</td>\n",
       "      <td>0.69</td>\n",
       "    </tr>\n",
       "    <tr>\n",
       "      <th>231628</th>\n",
       "      <td>4.033710</td>\n",
       "      <td>-1.290662</td>\n",
       "      <td>0.764452</td>\n",
       "      <td>-0.169233</td>\n",
       "      <td>-1.688528</td>\n",
       "      <td>1.984718</td>\n",
       "      <td>-0.717210</td>\n",
       "      <td>1.667635</td>\n",
       "      <td>-0.228295</td>\n",
       "      <td>-0.959071</td>\n",
       "      <td>...</td>\n",
       "      <td>0.057620</td>\n",
       "      <td>0.138615</td>\n",
       "      <td>0.390374</td>\n",
       "      <td>-0.678774</td>\n",
       "      <td>0.292254</td>\n",
       "      <td>1.425865</td>\n",
       "      <td>0.265341</td>\n",
       "      <td>0.051405</td>\n",
       "      <td>0.103879</td>\n",
       "      <td>55.47</td>\n",
       "    </tr>\n",
       "    <tr>\n",
       "      <th>110643</th>\n",
       "      <td>2.525729</td>\n",
       "      <td>-0.606860</td>\n",
       "      <td>0.233923</td>\n",
       "      <td>2.633361</td>\n",
       "      <td>-0.155762</td>\n",
       "      <td>-0.328850</td>\n",
       "      <td>-0.070593</td>\n",
       "      <td>0.173023</td>\n",
       "      <td>0.113394</td>\n",
       "      <td>0.680147</td>\n",
       "      <td>...</td>\n",
       "      <td>-0.129287</td>\n",
       "      <td>0.007393</td>\n",
       "      <td>0.265045</td>\n",
       "      <td>-0.040615</td>\n",
       "      <td>0.406088</td>\n",
       "      <td>-0.498823</td>\n",
       "      <td>0.121851</td>\n",
       "      <td>-0.046840</td>\n",
       "      <td>-0.087259</td>\n",
       "      <td>11.50</td>\n",
       "    </tr>\n",
       "    <tr>\n",
       "      <th>11478</th>\n",
       "      <td>2.397895</td>\n",
       "      <td>1.374168</td>\n",
       "      <td>-0.330389</td>\n",
       "      <td>0.812971</td>\n",
       "      <td>-0.183112</td>\n",
       "      <td>-1.074771</td>\n",
       "      <td>-0.933788</td>\n",
       "      <td>-0.544238</td>\n",
       "      <td>-0.348237</td>\n",
       "      <td>0.614925</td>\n",
       "      <td>...</td>\n",
       "      <td>0.078163</td>\n",
       "      <td>-0.134742</td>\n",
       "      <td>0.016793</td>\n",
       "      <td>0.002610</td>\n",
       "      <td>0.714527</td>\n",
       "      <td>0.536175</td>\n",
       "      <td>-0.307487</td>\n",
       "      <td>-0.003555</td>\n",
       "      <td>0.013024</td>\n",
       "      <td>10.00</td>\n",
       "    </tr>\n",
       "    <tr>\n",
       "      <th>243724</th>\n",
       "      <td>7.736766</td>\n",
       "      <td>-2.146505</td>\n",
       "      <td>-7.603113</td>\n",
       "      <td>-4.928224</td>\n",
       "      <td>1.449173</td>\n",
       "      <td>-2.083871</td>\n",
       "      <td>-0.984759</td>\n",
       "      <td>3.629816</td>\n",
       "      <td>-1.302973</td>\n",
       "      <td>-1.434148</td>\n",
       "      <td>...</td>\n",
       "      <td>4.009181</td>\n",
       "      <td>1.274986</td>\n",
       "      <td>-0.857670</td>\n",
       "      <td>-2.109682</td>\n",
       "      <td>0.169338</td>\n",
       "      <td>-0.322888</td>\n",
       "      <td>0.777822</td>\n",
       "      <td>-0.552258</td>\n",
       "      <td>0.304777</td>\n",
       "      <td>2290.05</td>\n",
       "    </tr>\n",
       "  </tbody>\n",
       "</table>\n",
       "<p>5 rows × 30 columns</p>\n",
       "</div>"
      ],
      "text/plain": [
       "        Amount_Scaled        V1        V2        V3        V4        V5  \\\n",
       "211605       0.524729 -8.367621  7.402969 -5.114191 -2.966792 -0.985904   \n",
       "231628       4.033710 -1.290662  0.764452 -0.169233 -1.688528  1.984718   \n",
       "110643       2.525729 -0.606860  0.233923  2.633361 -0.155762 -0.328850   \n",
       "11478        2.397895  1.374168 -0.330389  0.812971 -0.183112 -1.074771   \n",
       "243724       7.736766 -2.146505 -7.603113 -4.928224  1.449173 -2.083871   \n",
       "\n",
       "              V6        V7        V8        V9  ...       V20       V21  \\\n",
       "211605 -1.660018  0.397816  1.008250  5.290976  ...  3.589299 -0.557927   \n",
       "231628 -0.717210  1.667635 -0.228295 -0.959071  ...  0.057620  0.138615   \n",
       "110643 -0.070593  0.173023  0.113394  0.680147  ... -0.129287  0.007393   \n",
       "11478  -0.933788 -0.544238 -0.348237  0.614925  ...  0.078163 -0.134742   \n",
       "243724 -0.984759  3.629816 -1.302973 -1.434148  ...  4.009181  1.274986   \n",
       "\n",
       "             V22       V23       V24       V25       V26       V27       V28  \\\n",
       "211605  0.349087  0.301734  0.662330  1.145939 -0.012273  1.513736  0.669504   \n",
       "231628  0.390374 -0.678774  0.292254  1.425865  0.265341  0.051405  0.103879   \n",
       "110643  0.265045 -0.040615  0.406088 -0.498823  0.121851 -0.046840 -0.087259   \n",
       "11478   0.016793  0.002610  0.714527  0.536175 -0.307487 -0.003555  0.013024   \n",
       "243724 -0.857670 -2.109682  0.169338 -0.322888  0.777822 -0.552258  0.304777   \n",
       "\n",
       "         Amount  \n",
       "211605     0.69  \n",
       "231628    55.47  \n",
       "110643    11.50  \n",
       "11478     10.00  \n",
       "243724  2290.05  \n",
       "\n",
       "[5 rows x 30 columns]"
      ]
     },
     "execution_count": 30,
     "metadata": {},
     "output_type": "execute_result"
    }
   ],
   "source": [
    "X_train,X_test,y_train,y_test = get_train_test_dataset(card_df)\n",
    "X_train.head()"
   ]
  },
  {
   "cell_type": "code",
   "execution_count": 31,
   "id": "a439624c-ec37-4670-a75b-cb00bc58cb24",
   "metadata": {},
   "outputs": [],
   "source": [
    "lr_clf = LogisticRegression()"
   ]
  },
  {
   "cell_type": "code",
   "execution_count": 32,
   "id": "e7200460-571b-474d-9c70-0c129b854e35",
   "metadata": {},
   "outputs": [
    {
     "name": "stdout",
     "output_type": "stream",
     "text": [
      "오차행렬\n",
      "[[85275    20]\n",
      " [   48   100]]\n",
      "정확도: 0.9992, 정밀도: 0.8333, 재현율:0.6757, f1-스코어:0.7463, auc스코어:0.9248\n"
     ]
    }
   ],
   "source": [
    "get_model_train_eval(lr_clf, X_train,X_test,y_train,y_test)"
   ]
  },
  {
   "cell_type": "code",
   "execution_count": 33,
   "id": "a676d4b8-5df9-468b-920b-acc763333225",
   "metadata": {},
   "outputs": [
    {
     "name": "stdout",
     "output_type": "stream",
     "text": [
      "오차행렬\n",
      "[[85290     5]\n",
      " [   35   113]]\n",
      "정확도: 0.9995, 정밀도: 0.9576, 재현율:0.7635, f1-스코어:0.8496, auc스코어:0.9796\n"
     ]
    }
   ],
   "source": [
    "lgbm_clf = LGBMClassifier(n_estimators=1000,\n",
    "                         num_leaves=64,\n",
    "                         n_jobs=-1,\n",
    "                         boost_from_average=False)\n",
    "get_model_train_eval(lgbm_clf, X_train,X_test,y_train,y_test)"
   ]
  },
  {
   "cell_type": "code",
   "execution_count": null,
   "id": "5771d30c-b15e-4823-bf04-fb5c4e78cbad",
   "metadata": {},
   "outputs": [],
   "source": []
  },
  {
   "cell_type": "markdown",
   "id": "987c6136-5496-483f-97d4-7c05c16c6ce4",
   "metadata": {},
   "source": [
    "## 이상치(Outlier)를 찾아서 제거하자"
   ]
  },
  {
   "cell_type": "code",
   "execution_count": 34,
   "id": "8a08cce9-84ea-4446-b5e2-729c0de7bf68",
   "metadata": {},
   "outputs": [],
   "source": [
    "import seaborn as sns"
   ]
  },
  {
   "cell_type": "code",
   "execution_count": 35,
   "id": "b4a17575-39e8-47ca-af3c-5deb06b0c0e8",
   "metadata": {},
   "outputs": [
    {
     "data": {
      "text/plain": [
       "<AxesSubplot:>"
      ]
     },
     "execution_count": 35,
     "metadata": {},
     "output_type": "execute_result"
    },
    {
     "data": {
      "image/png": "[encoded data removed]",
      "text/plain": [
       "<Figure size 648x648 with 2 Axes>"
      ]
     },
     "metadata": {
      "needs_background": "light"
     },
     "output_type": "display_data"
    }
   ],
   "source": [
    "plt.figure(figsize=(9,9))\n",
    "corr = card_df.corr()\n",
    "sns.heatmap(corr,cmap='RdBu')"
   ]
  },
  {
   "cell_type": "code",
   "execution_count": 36,
   "id": "8f762c3c-e9a8-4cd6-bbde-f39cd709962c",
   "metadata": {},
   "outputs": [],
   "source": [
    "import numpy as np"
   ]
  },
  {
   "cell_type": "code",
   "execution_count": 37,
   "id": "098a6fe9-feaa-4279-8e8a-449ffa16138b",
   "metadata": {},
   "outputs": [],
   "source": [
    "\n",
    "# 이상치를 탐색하고 삭제한 데이터를 반환하는 함수\n",
    "def get_outlier(df=None,columns=None,weight=1.5):\n",
    "    fraud = df[df['Class']==1][columns]\n",
    "    q25 = np.percentile(fraud.values, 25)\n",
    "    q75 = np.percentile(fraud.values, 75)\n",
    "    iqr = q75 - q25\n",
    "    iqr_weight = iqr*weight\n",
    "    lowest_val = q25 - iqr_weight\n",
    "    highest_val = q75 + iqr_weight\n",
    "    \n",
    "    outlier_index = fraud[(fraud<lowest_val)|(fraud>highest_val)].index\n",
    "    return outlier_index"
   ]
  },
  {
   "cell_type": "code",
   "execution_count": 38,
   "id": "09cf596c-85e6-484b-96ce-06a80c961fe9",
   "metadata": {},
   "outputs": [
    {
     "data": {
      "text/plain": [
       "Int64Index([8296, 8615, 9035, 9252], dtype='int64')"
      ]
     },
     "execution_count": 38,
     "metadata": {},
     "output_type": "execute_result"
    }
   ],
   "source": [
    "get_outlier(card_df,'V14')"
   ]
  },
  {
   "cell_type": "code",
   "execution_count": 39,
   "id": "7bad8693-83ef-4755-baf7-7ec14c569505",
   "metadata": {},
   "outputs": [
    {
     "data": {
      "text/plain": [
       "Int64Index([], dtype='int64')"
      ]
     },
     "execution_count": 39,
     "metadata": {},
     "output_type": "execute_result"
    }
   ],
   "source": [
    "get_outlier(card_df,'V17')"
   ]
  },
  {
   "cell_type": "code",
   "execution_count": 40,
   "id": "581287ca-3f43-442d-9511-7ba2986e1e0d",
   "metadata": {},
   "outputs": [
    {
     "name": "stdout",
     "output_type": "stream",
     "text": [
      "이상치 데이터 인덱스: Int64Index([8296, 8615, 9035, 9252], dtype='int64')\n"
     ]
    }
   ],
   "source": [
    "outlier_index = get_outlier(df=card_df, columns='V14', weight=1.5)\n",
    "print('이상치 데이터 인덱스:', outlier_index)"
   ]
  },
  {
   "cell_type": "code",
   "execution_count": 41,
   "id": "54b67858-e1e9-4280-ac24-ac49c7bfb3d3",
   "metadata": {},
   "outputs": [
    {
     "name": "stdout",
     "output_type": "stream",
     "text": [
      "### 로지스틱 회귀 예측 성능 ###\n",
      "오차행렬\n",
      "[[85281    14]\n",
      " [   48    98]]\n",
      "정확도: 0.9993, 정밀도: 0.8750, 재현율:0.6712, f1-스코어:0.7597, auc스코어:0.9743\n",
      "### LightGBM 예측 성능 ###\n",
      "오차행렬\n",
      "[[85290     5]\n",
      " [   25   121]]\n",
      "정확도: 0.9996, 정밀도: 0.9603, 재현율:0.8288, f1-스코어:0.8897, auc스코어:0.9780\n"
     ]
    }
   ],
   "source": [
    "# get_processed_df( )를 로그 변환 후 V14 피처의 이상치 데이터를 삭제하는 로직으로 변경. \n",
    "def get_preprocessed_df(df=None):\n",
    "    df_copy = df.copy()\n",
    "    amount_n = np.log1p(df_copy['Amount'])\n",
    "    df_copy.insert(0, 'Amount_Scaled', amount_n)\n",
    "    df_copy.drop(['Time','Amount'], axis=1, inplace=True)\n",
    "    # 이상치 데이터 삭제하는 로직 추가\n",
    "    outlier_index = get_outlier(df=df_copy, columns='V14', weight=1.5)\n",
    "    df_copy.drop(outlier_index, axis=0, inplace=True)\n",
    "    return df_copy\n",
    "\n",
    "X_train, X_test, y_train, y_test = get_train_test_dataset(card_df)\n",
    "print('### 로지스틱 회귀 예측 성능 ###')\n",
    "get_model_train_eval(lr_clf, X_train, X_test,y_train, y_test)\n",
    "print('### LightGBM 예측 성능 ###')\n",
    "get_model_train_eval(lgbm_clf, X_train, X_test, y_train,y_test)\n"
   ]
  },
  {
   "cell_type": "markdown",
   "id": "23ad028f-9e77-42b4-bb46-1f4fa69922f8",
   "metadata": {},
   "source": [
    "## OverSampling 해보자\n",
    "부족한 사기사례 데이터를 증강을 통해서 데이터 수를 확보하고 학습을 해보자"
   ]
  },
  {
   "cell_type": "code",
   "execution_count": 42,
   "id": "20a2c05f-09b1-4850-887f-db09cc467e86",
   "metadata": {},
   "outputs": [],
   "source": [
    "from imblearn.over_sampling import SMOTE"
   ]
  },
  {
   "cell_type": "code",
   "execution_count": 43,
   "id": "b7d4754a-dc0f-484b-9163-c12ef5150616",
   "metadata": {},
   "outputs": [],
   "source": [
    "smote = SMOTE(random_state=0)\n",
    "\n",
    "X_train_over, y_train_over  = smote.fit_sample(X_train,y_train)"
   ]
  },
  {
   "cell_type": "code",
   "execution_count": 44,
   "id": "00088714-ba00-4901-9af6-8fd996f669b7",
   "metadata": {},
   "outputs": [
    {
     "data": {
      "text/plain": [
       "(398040, 29)"
      ]
     },
     "execution_count": 44,
     "metadata": {},
     "output_type": "execute_result"
    }
   ],
   "source": [
    "X_train_over.shape"
   ]
  },
  {
   "cell_type": "code",
   "execution_count": 45,
   "id": "58e3629f-8755-4288-af76-57ec5975dae6",
   "metadata": {},
   "outputs": [
    {
     "data": {
      "text/plain": [
       "0    199020\n",
       "1    199020\n",
       "Name: Class, dtype: int64"
      ]
     },
     "execution_count": 45,
     "metadata": {},
     "output_type": "execute_result"
    }
   ],
   "source": [
    "y_train_over.value_counts()"
   ]
  },
  {
   "cell_type": "code",
   "execution_count": 46,
   "id": "95af554e-5be0-411b-962a-8ca2e58c058d",
   "metadata": {},
   "outputs": [
    {
     "name": "stdout",
     "output_type": "stream",
     "text": [
      "### 로지스틱 회귀 예측 성능 ###\n",
      "오차행렬\n",
      "[[82937  2358]\n",
      " [   11   135]]\n",
      "정확도: 0.9723, 정밀도: 0.0542, 재현율:0.9247, f1-스코어:0.1023, auc스코어:0.9737\n",
      "### LightGBM 예측 성능 ###\n",
      "오차행렬\n",
      "[[85290     5]\n",
      " [   25   121]]\n",
      "정확도: 0.9996, 정밀도: 0.9603, 재현율:0.8288, f1-스코어:0.8897, auc스코어:0.9780\n"
     ]
    }
   ],
   "source": [
    "lr_clf = LogisticRegression()\n",
    "print('### 로지스틱 회귀 예측 성능 ###')\n",
    "get_model_train_eval(lr_clf, X_train_over, X_test,y_train_over, y_test)\n",
    "print('### LightGBM 예측 성능 ###')\n",
    "get_model_train_eval(lgbm_clf, X_train, X_test, y_train,y_test)"
   ]
  },
  {
   "cell_type": "code",
   "execution_count": 47,
   "id": "95280509-b2a3-4719-b378-8a30e26621de",
   "metadata": {},
   "outputs": [],
   "source": [
    "from sklearn.metrics import precision_recall_curve"
   ]
  },
  {
   "cell_type": "code",
   "execution_count": 48,
   "id": "221ccc28-1d15-445a-95b4-820741e1cd48",
   "metadata": {},
   "outputs": [],
   "source": [
    "def precision_recall_curve_plot(y_test,pred_proba):\n",
    "    precisions,recalls,thresholds = precision_recall_curve(y_test,pred_proba)\n",
    "    plt.figure(figsize=(8,6))\n",
    "    threshold_boundary = thresholds.shape[0]\n",
    "    plt.plot(thresholds,precisions[0:threshold_boundary],linestyle='--',label='precision')\n",
    "    plt.plot(thresholds,recalls[0:threshold_boundary],label='recall')\n",
    "    start,end = plt.xlim()\n",
    "    plt.xticks(np.round(np.arange(start,end,0.1),2))\n",
    "    plt.legend()\n",
    "    plt.grid()    \n",
    "    plt.show()\n"
   ]
  },
  {
   "cell_type": "code",
   "execution_count": 49,
   "id": "932ccfae-cff4-4428-af3c-56fd070a1864",
   "metadata": {},
   "outputs": [
    {
     "data": {
      "image/png": "[encoded data removed]",
      "text/plain": [
       "<Figure size 576x432 with 1 Axes>"
      ]
     },
     "metadata": {
      "needs_background": "light"
     },
     "output_type": "display_data"
    }
   ],
   "source": [
    "precision_recall_curve_plot(y_test,lr_clf.predict_proba(X_test)[:,1])"
   ]
  },
  {
   "cell_type": "code",
   "execution_count": null,
   "id": "6f7fdc14-0f27-4015-a215-79a560fc6e0c",
   "metadata": {},
   "outputs": [],
   "source": []
  },
  {
   "cell_type": "code",
   "execution_count": null,
   "id": "bb9bcdcf-9d33-48c4-a7e0-a62a43bc9ff9",
   "metadata": {},
   "outputs": [],
   "source": []
  }
 ],
 "metadata": {
  "kernelspec": {
   "display_name": "Python 3 (ipykernel)",
   "language": "python",
   "name": "python3"
  },
  "language_info": {
   "codemirror_mode": {
    "name": "ipython",
    "version": 3
   },
   "file_extension": ".py",
   "mimetype": "text/x-python",
   "name": "python",
   "nbconvert_exporter": "python",
   "pygments_lexer": "ipython3",
   "version": "3.9.7"
  }
 },
 "nbformat": 4,
 "nbformat_minor": 5
}
