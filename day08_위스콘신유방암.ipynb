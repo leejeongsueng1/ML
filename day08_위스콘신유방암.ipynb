{
 "cells": [
  {
   "cell_type": "markdown",
   "id": "4111c3ef-7cfd-44d8-b36a-d5081f7a380f",
   "metadata": {},
   "source": [
    "## 위스콘신 유방암 데이터를 통해 로지스틱회귀 분류 문제 해결"
   ]
  },
  {
   "cell_type": "code",
   "execution_count": 12,
   "id": "8891a652-0482-4a14-a265-238542b62e26",
   "metadata": {},
   "outputs": [],
   "source": [
    "# 필요모듈 import\n",
    "import pandas as pd\n",
    "import matplotlib.pyplot as plt\n",
    "%matplotlib inline\n",
    "import warnings\n",
    "warnings.filterwarnings('ignore')\n",
    "\n",
    "# 데이터, 모델링\n",
    "from sklearn.datasets import load_breast_cancer\n",
    "from sklearn.linear_model import LogisticRegression\n",
    "from sklearn.model_selection import GridSearchCV\n",
    "\n",
    "# 전처리\n",
    "from sklearn.preprocessing import StandardScaler\n",
    "from sklearn.model_selection import train_test_split\n",
    "\n",
    "# 평가지표\n",
    "from sklearn.metrics import accuracy_score, roc_auc_score"
   ]
  },
  {
   "cell_type": "code",
   "execution_count": 13,
   "id": "c467256b-d6aa-4e4a-986b-759cb2314243",
   "metadata": {},
   "outputs": [],
   "source": [
    "# 데이터 준비\n",
    "cancer = load_breast_cancer()"
   ]
  },
  {
   "cell_type": "code",
   "execution_count": 14,
   "id": "e979eeb0-b5fb-4fdc-8d18-eec873a60503",
   "metadata": {},
   "outputs": [],
   "source": [
    "# 스케일링 (정규분포)\n",
    "data_scaled = StandardScaler().fit_transform(cancer.data)"
   ]
  },
  {
   "cell_type": "code",
   "execution_count": 15,
   "id": "a9e60c8a-3bb7-4452-a9ea-5a81b7d73a0a",
   "metadata": {},
   "outputs": [],
   "source": [
    "# train-test split\n",
    "X_train, X_test, y_train, y_test = train_test_split(data_scaled, cancer.target, test_size=0.3, random_state=0)"
   ]
  },
  {
   "cell_type": "code",
   "execution_count": 16,
   "id": "bab546b5-d2ae-488b-a12f-4478fc0427c2",
   "metadata": {},
   "outputs": [
    {
     "data": {
      "text/plain": [
       "(0.9766081871345029, 0.9715608465608465)"
      ]
     },
     "execution_count": 16,
     "metadata": {},
     "output_type": "execute_result"
    }
   ],
   "source": [
    "lr_clf = LogisticRegression()\n",
    "lr_clf.fit(X_train, y_train)\n",
    "lr_preds = lr_clf.predict(X_test)\n",
    "\n",
    "accuracy_score(y_test, lr_preds), roc_auc_score(y_test, lr_preds)"
   ]
  },
  {
   "cell_type": "code",
   "execution_count": 17,
   "id": "3c88f385-8bde-4ba2-be0b-e5c5027e9ae2",
   "metadata": {},
   "outputs": [
    {
     "data": {
      "text/plain": [
       "GridSearchCV(cv=3, estimator=LogisticRegression(),\n",
       "             param_grid={'C': [0.01, 0.1, 1, 5, 10], 'penalty': ['l2', 'l1']},\n",
       "             scoring='accuracy')"
      ]
     },
     "execution_count": 17,
     "metadata": {},
     "output_type": "execute_result"
    }
   ],
   "source": [
    "\"\"\"\n",
    "panalty :  규제 방식\n",
    "C       :  Regularzaion Strength\n",
    "\n",
    "\"\"\"\n",
    "\n",
    "params = {'penalty': ['l2','l1'],\n",
    "         'C':[0.01, 0.1, 1, 5, 10]}\n",
    "\n",
    "grid_clf = GridSearchCV(lr_clf, params, scoring='accuracy', cv=3)\n",
    "grid_clf.fit(data_scaled,cancer.target)"
   ]
  },
  {
   "cell_type": "code",
   "execution_count": 18,
   "id": "3d3e5b1a-bcb5-4c56-83cb-e4963e00b00c",
   "metadata": {},
   "outputs": [
    {
     "data": {
      "text/plain": [
       "{'C': 1, 'penalty': 'l2'}"
      ]
     },
     "execution_count": 18,
     "metadata": {},
     "output_type": "execute_result"
    }
   ],
   "source": [
    "grid_clf.best_params_"
   ]
  },
  {
   "cell_type": "code",
   "execution_count": 19,
   "id": "21269fb7-7b80-4fe3-9a31-b36479509505",
   "metadata": {},
   "outputs": [
    {
     "data": {
      "text/plain": [
       "0.975392184164114"
      ]
     },
     "execution_count": 19,
     "metadata": {},
     "output_type": "execute_result"
    }
   ],
   "source": [
    "grid_clf.best_score_"
   ]
  },
  {
   "cell_type": "code",
   "execution_count": null,
   "id": "ba3f3f44-0394-43d4-b191-5e4f3b5fd1a3",
   "metadata": {},
   "outputs": [],
   "source": []
  }
 ],
 "metadata": {
  "kernelspec": {
   "display_name": "Python 3 (ipykernel)",
   "language": "python",
   "name": "python3"
  },
  "language_info": {
   "codemirror_mode": {
    "name": "ipython",
    "version": 3
   },
   "file_extension": ".py",
   "mimetype": "text/x-python",
   "name": "python",
   "nbconvert_exporter": "python",
   "pygments_lexer": "ipython3",
   "version": "3.9.7"
  }
 },
 "nbformat": 4,
 "nbformat_minor": 5
}
