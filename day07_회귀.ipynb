{
 "cells": [
  {
   "cell_type": "code",
   "execution_count": 1,
   "id": "acf04af1-fe28-460a-88ef-6d2613229df7",
   "metadata": {},
   "outputs": [],
   "source": [
    "import numpy as np\n",
    "import matplotlib.pyplot as plt"
   ]
  },
  {
   "cell_type": "code",
   "execution_count": 2,
   "id": "5fd53f4d-07b1-461a-954d-529136625422",
   "metadata": {},
   "outputs": [
    {
     "data": {
      "text/plain": [
       "array([[1.09762701],\n",
       "       [1.43037873],\n",
       "       [1.20552675],\n",
       "       [1.08976637],\n",
       "       [0.8473096 ],\n",
       "       [1.29178823],\n",
       "       [0.87517442],\n",
       "       [1.783546  ],\n",
       "       [1.92732552],\n",
       "       [0.76688304],\n",
       "       [1.58345008],\n",
       "       [1.05778984],\n",
       "       [1.13608912],\n",
       "       [1.85119328],\n",
       "       [0.14207212],\n",
       "       [0.1742586 ],\n",
       "       [0.04043679],\n",
       "       [1.66523969],\n",
       "       [1.5563135 ],\n",
       "       [1.7400243 ],\n",
       "       [1.95723668],\n",
       "       [1.59831713],\n",
       "       [0.92295872],\n",
       "       [1.56105835],\n",
       "       [0.23654885],\n",
       "       [1.27984204],\n",
       "       [0.28670657],\n",
       "       [1.88933783],\n",
       "       [1.04369664],\n",
       "       [0.82932388],\n",
       "       [0.52911122],\n",
       "       [1.54846738],\n",
       "       [0.91230066],\n",
       "       [1.1368679 ],\n",
       "       [0.0375796 ],\n",
       "       [1.23527099],\n",
       "       [1.22419145],\n",
       "       [1.23386799],\n",
       "       [1.88749616],\n",
       "       [1.3636406 ],\n",
       "       [0.7190158 ],\n",
       "       [0.87406391],\n",
       "       [1.39526239],\n",
       "       [0.12045094],\n",
       "       [1.33353343],\n",
       "       [1.34127574],\n",
       "       [0.42076512],\n",
       "       [0.2578526 ],\n",
       "       [0.6308567 ],\n",
       "       [0.72742154],\n",
       "       [1.14039354],\n",
       "       [0.87720303],\n",
       "       [1.97674768],\n",
       "       [0.20408962],\n",
       "       [0.41775351],\n",
       "       [0.32261904],\n",
       "       [1.30621665],\n",
       "       [0.50658321],\n",
       "       [0.93262155],\n",
       "       [0.48885118],\n",
       "       [0.31793917],\n",
       "       [0.22075028],\n",
       "       [1.31265918],\n",
       "       [0.2763659 ],\n",
       "       [0.39316472],\n",
       "       [0.73745034],\n",
       "       [1.64198646],\n",
       "       [0.19420255],\n",
       "       [1.67588981],\n",
       "       [0.19219682],\n",
       "       [1.95291893],\n",
       "       [0.9373024 ],\n",
       "       [1.95352218],\n",
       "       [1.20969104],\n",
       "       [1.47852716],\n",
       "       [0.07837558],\n",
       "       [0.56561393],\n",
       "       [0.24039312],\n",
       "       [0.5922804 ],\n",
       "       [0.23745544],\n",
       "       [0.63596636],\n",
       "       [0.82852599],\n",
       "       [0.12829499],\n",
       "       [1.38494424],\n",
       "       [1.13320291],\n",
       "       [0.53077898],\n",
       "       [1.04649611],\n",
       "       [0.18788102],\n",
       "       [1.15189299],\n",
       "       [1.8585924 ],\n",
       "       [0.6371379 ],\n",
       "       [1.33482076],\n",
       "       [0.26359572],\n",
       "       [1.43265441],\n",
       "       [0.57881219],\n",
       "       [0.36638272],\n",
       "       [1.17302587],\n",
       "       [0.04021509],\n",
       "       [1.65788006],\n",
       "       [0.00939095]])"
      ]
     },
     "execution_count": 2,
     "metadata": {},
     "output_type": "execute_result"
    }
   ],
   "source": [
    "np.random.seed(0)\n",
    "X = 2 * np.random.rand(100,1)\n",
    "X"
   ]
  },
  {
   "cell_type": "code",
   "execution_count": 3,
   "id": "3c61a2a2-d2f3-4d1a-89fb-3fcdb461348c",
   "metadata": {},
   "outputs": [],
   "source": [
    "y = 6 + 4*X+np.random.randn(100,1)"
   ]
  },
  {
   "cell_type": "code",
   "execution_count": 4,
   "id": "0b302343-4c5e-481f-90a3-2c7fdff0c55d",
   "metadata": {},
   "outputs": [
    {
     "data": {
      "text/plain": [
       "<matplotlib.collections.PathCollection at 0x228b7666370>"
      ]
     },
     "execution_count": 4,
     "metadata": {},
     "output_type": "execute_result"
    },
    {
     "data": {
      "image/png": "[encoded data removed]",
      "text/plain": [
       "<Figure size 432x288 with 1 Axes>"
      ]
     },
     "metadata": {
      "needs_background": "light"
     },
     "output_type": "display_data"
    }
   ],
   "source": [
    "plt.scatter(X,y)"
   ]
  },
  {
   "cell_type": "code",
   "execution_count": 5,
   "id": "42b1d3f8-b2c4-4d09-a32c-d619cdd2f8db",
   "metadata": {},
   "outputs": [],
   "source": [
    "def get_cost(y,y_pred):\n",
    "    N = len(y)\n",
    "    cost = np.sum(np.square(y-y_pred))/N\n",
    "    return cost"
   ]
  },
  {
   "cell_type": "code",
   "execution_count": 6,
   "id": "f3f6c6ea-0e78-49bd-b99a-a92b1fa2a4d2",
   "metadata": {},
   "outputs": [],
   "source": [
    "def get_weight_update(w1,w0,X,y,learning_rate=0.01):\n",
    "    N = len(y)\n",
    "    w1_update = np.zeros_like(w1)\n",
    "    w0_update = np.zeros_like(w0)\n",
    "    y_pred = np.dot(X,w1.T) + w0\n",
    "    diff = y - y_pred\n",
    "    w0_factors = np.ones((N,1))\n",
    "    w1_update = -(2/N)*learning_rate*(np.dot(X.T,diff))\n",
    "    w0_update = -(2/N)*learning_rate*(np.dot(w0_factors.T,diff))\n",
    "    return w1_update, w0_update"
   ]
  },
  {
   "cell_type": "code",
   "execution_count": 7,
   "id": "832bc397-f8c2-448f-b56f-2805f2056eae",
   "metadata": {},
   "outputs": [],
   "source": [
    "def gradient_descent_steps(X,y,iters=10000):\n",
    "    w0 = np.zeros((1,1))\n",
    "    w1 = np.zeros((1,1))\n",
    "    for ind in range(iters):\n",
    "        w1_update, w0_update = get_weight_update(w1,w0,X,y,learning_rate=0.01)\n",
    "        w1 -= w1_update\n",
    "        w0 -= w0_update\n",
    "    return w1,w0"
   ]
  },
  {
   "cell_type": "code",
   "execution_count": 8,
   "id": "b49ac1a9-6e95-48ea-851d-dcb976fbcbea",
   "metadata": {},
   "outputs": [
    {
     "data": {
      "text/plain": [
       "(array([[4.02181364]]), array([[6.16203122]]))"
      ]
     },
     "execution_count": 8,
     "metadata": {},
     "output_type": "execute_result"
    }
   ],
   "source": [
    "w1, w0 = gradient_descent_steps(X,y,iters=1000)\n",
    "w1,w0"
   ]
  },
  {
   "cell_type": "code",
   "execution_count": 9,
   "id": "cd8fda65-e61c-43fa-ae6f-20183fa4da92",
   "metadata": {},
   "outputs": [],
   "source": [
    "y_pred = X*w1 + w0"
   ]
  },
  {
   "cell_type": "code",
   "execution_count": 10,
   "id": "1503c13b-3986-4aa2-947d-2685b11c29b5",
   "metadata": {},
   "outputs": [
    {
     "data": {
      "text/plain": [
       "[<matplotlib.lines.Line2D at 0x228b778a100>]"
      ]
     },
     "execution_count": 10,
     "metadata": {},
     "output_type": "execute_result"
    },
    {
     "data": {
      "image/png": "[encoded data removed]",
      "text/plain": [
       "<Figure size 432x288 with 1 Axes>"
      ]
     },
     "metadata": {
      "needs_background": "light"
     },
     "output_type": "display_data"
    }
   ],
   "source": [
    "plt.scatter(X,y)\n",
    "plt.plot(X,y_pred)"
   ]
  },
  {
   "cell_type": "code",
   "execution_count": 11,
   "id": "613b4840-8c83-4ca9-95a4-3edfe2aae812",
   "metadata": {},
   "outputs": [],
   "source": [
    "def stochastic_gradient_descent_steps(X,y,batch_size = 10, iters=10000):\n",
    "    w0 = np.zeros((1,1))\n",
    "    w1 = np.zeros((1,1))\n",
    "    \n",
    "    prev_cost = 100000\n",
    "    iter_index = 0\n",
    "    \n",
    "    for ind in range(iters):\n",
    "        np.random.seed(ind)\n",
    "        stochastic_random_index = np.random.permutation(X.shape[0])\n",
    "        sample_X = X[stochastic_random_index[0:batch_size]]\n",
    "        sample_y = y[stochastic_random_index[0:batch_size]]\n",
    "        w1_update, w0_update = get_weight_update(w1, w0, sample_X, sample_y, learning_rate=0.01)\n",
    "        w1 -= w1_update\n",
    "        w0 -= w0_update\n",
    "    \n",
    "    return w1, w0"
   ]
  },
  {
   "cell_type": "code",
   "execution_count": 12,
   "id": "5f8c2fc3-7991-4cab-b85a-fae53099f91a",
   "metadata": {},
   "outputs": [
    {
     "data": {
      "text/plain": [
       "(array([[4.02826291]]), array([[6.15645891]]))"
      ]
     },
     "execution_count": 12,
     "metadata": {},
     "output_type": "execute_result"
    }
   ],
   "source": [
    "w1,w0 = stochastic_gradient_descent_steps(X,y,iters=1000)\n",
    "w1,w0"
   ]
  },
  {
   "cell_type": "code",
   "execution_count": 13,
   "id": "1174bb73-9803-4a43-9c8e-12919135b0f6",
   "metadata": {
    "tags": []
   },
   "outputs": [
    {
     "data": {
      "text/plain": [
       "array([[10.57798907],\n",
       "       [11.9184005 ],\n",
       "       [11.01263761],\n",
       "       [10.54632434],\n",
       "       [ 9.56964474],\n",
       "       [11.36012151],\n",
       "       [ 9.68189157],\n",
       "       [13.34105111],\n",
       "       [13.92023282],\n",
       "       [ 9.2456654 ],\n",
       "       [12.53501212],\n",
       "       [10.41751448],\n",
       "       [10.73292458],\n",
       "       [13.61355212],\n",
       "       [ 6.72876275],\n",
       "       [ 6.85841836],\n",
       "       [ 6.31934895],\n",
       "       [12.86448219],\n",
       "       [12.42569886],\n",
       "       [13.16573424],\n",
       "       [14.04072285],\n",
       "       [12.59490051],\n",
       "       [ 9.8743793 ],\n",
       "       [12.44481237],\n",
       "       [ 7.10933987],\n",
       "       [11.31199914],\n",
       "       [ 7.31138837],\n",
       "       [13.76720843],\n",
       "       [10.36074339],\n",
       "       [ 9.49719353],\n",
       "       [ 8.28785803],\n",
       "       [12.39409262],\n",
       "       [ 9.83144584],\n",
       "       [10.73606169],\n",
       "       [ 6.30783942],\n",
       "       [11.13245524],\n",
       "       [11.0878239 ],\n",
       "       [11.12680358],\n",
       "       [13.75978967],\n",
       "       [11.64956175],\n",
       "       [ 9.05284359],\n",
       "       [ 9.67741813],\n",
       "       [11.77694265],\n",
       "       [ 6.64166698],\n",
       "       [11.52828217],\n",
       "       [11.55947022],\n",
       "       [ 7.85141144],\n",
       "       [ 7.19515695],\n",
       "       [ 8.69771556],\n",
       "       [ 9.08670412],\n",
       "       [10.75026391],\n",
       "       [ 9.69006333],\n",
       "       [14.11931825],\n",
       "       [ 6.97858556],\n",
       "       [ 7.83927989],\n",
       "       [ 7.4560532 ],\n",
       "       [11.41824299],\n",
       "       [ 8.19710924],\n",
       "       [ 9.91330369],\n",
       "       [ 8.12568   ],\n",
       "       [ 7.43720146],\n",
       "       [ 7.04569908],\n",
       "       [11.44419519],\n",
       "       [ 7.26973342],\n",
       "       [ 7.74022978],\n",
       "       [ 9.12710277],\n",
       "       [12.77081206],\n",
       "       [ 6.93875784],\n",
       "       [12.90738369],\n",
       "       [ 6.93067821],\n",
       "       [14.0233298 ],\n",
       "       [ 9.93215941],\n",
       "       [14.02575983],\n",
       "       [11.02941245],\n",
       "       [12.11235502],\n",
       "       [ 6.47217637],\n",
       "       [ 8.4349005 ],\n",
       "       [ 7.12482561],\n",
       "       [ 8.54232006],\n",
       "       [ 7.11299184],\n",
       "       [ 8.7182986 ],\n",
       "       [ 9.49397942],\n",
       "       [ 6.67326487],\n",
       "       [11.73537842],\n",
       "       [10.72129815],\n",
       "       [ 8.29457619],\n",
       "       [10.37202036],\n",
       "       [ 6.91329306],\n",
       "       [10.79658672],\n",
       "       [13.64335772],\n",
       "       [ 8.7230179 ],\n",
       "       [11.53346787],\n",
       "       [ 7.21829179],\n",
       "       [11.92756752],\n",
       "       [ 8.48806657],\n",
       "       [ 7.63234485],\n",
       "       [10.88171551],\n",
       "       [ 6.31845587],\n",
       "       [12.83483566],\n",
       "       [ 6.19428813]])"
      ]
     },
     "execution_count": 13,
     "metadata": {},
     "output_type": "execute_result"
    }
   ],
   "source": [
    "y_hat = X@w1 + w0\n",
    "y_hat"
   ]
  },
  {
   "cell_type": "code",
   "execution_count": null,
   "id": "3d6ce2f5-afaa-46e3-86b7-f90077f411dc",
   "metadata": {},
   "outputs": [],
   "source": []
  },
  {
   "cell_type": "code",
   "execution_count": null,
   "id": "6957b614-8c8e-4f14-ba92-680116adf9ac",
   "metadata": {},
   "outputs": [],
   "source": []
  }
 ],
 "metadata": {
  "kernelspec": {
   "display_name": "Python 3 (ipykernel)",
   "language": "python",
   "name": "python3"
  },
  "language_info": {
   "codemirror_mode": {
    "name": "ipython",
    "version": 3
   },
   "file_extension": ".py",
   "mimetype": "text/x-python",
   "name": "python",
   "nbconvert_exporter": "python",
   "pygments_lexer": "ipython3",
   "version": "3.9.7"
  }
 },
 "nbformat": 4,
 "nbformat_minor": 5
}
