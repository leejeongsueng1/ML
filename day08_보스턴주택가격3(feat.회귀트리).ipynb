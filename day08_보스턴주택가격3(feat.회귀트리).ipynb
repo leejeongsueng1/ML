{
 "cells": [
  {
   "cell_type": "code",
   "execution_count": 15,
   "id": "d9102847-fb7d-4814-aabe-d05bcbeda27c",
   "metadata": {},
   "outputs": [],
   "source": [
    "# 필요 모듈 import\n",
    "import numpy as np\n",
    "import pandas as pd\n",
    "import matplotlib.pyplot as plt\n",
    "import seaborn as sns\n",
    "\n",
    "# 데이터\n",
    "from sklearn.datasets import load_boston\n",
    "\n",
    "# 모델 및 평가metric\n",
    "from sklearn.model_selection import cross_val_score\n",
    "from sklearn.ensemble import RandomForestRegressor"
   ]
  },
  {
   "cell_type": "code",
   "execution_count": 16,
   "id": "81741cf8-8c00-4013-8a03-fdc795a363ba",
   "metadata": {},
   "outputs": [],
   "source": [
    "boston = load_boston()\n",
    "bostonDF = pd.DataFrame(boston.data, columns= boston.feature_names)\n",
    "bostonDF['PRICE'] = boston.target\n",
    "y = bostonDF.PRICE\n",
    "X = bostonDF.drop(columns='PRICE')"
   ]
  },
  {
   "cell_type": "code",
   "execution_count": 17,
   "id": "df5faff9-8f09-4ae1-82b3-d5d824130e96",
   "metadata": {},
   "outputs": [
    {
     "data": {
      "text/plain": [
       "(array([ -7.88, -13.14, -20.57, -46.23, -18.88]),\n",
       " array([2.81, 3.63, 4.54, 6.8 , 4.34]),\n",
       " 4.423)"
      ]
     },
     "execution_count": 17,
     "metadata": {},
     "output_type": "execute_result"
    }
   ],
   "source": [
    "rf = RandomForestRegressor(1000,random_state=0)\n",
    "neg_mse_score = cross_val_score(rf,X,y,scoring='neg_mean_squared_error',cv=5)\n",
    "rmse_scores = np.sqrt(np.abs(neg_mse_score))\n",
    "avg_rmse = np.mean(rmse_scores)\n",
    "np.round(neg_mse_score,2), np.round(rmse_scores,2), np.round(avg_rmse,3)\n"
   ]
  },
  {
   "cell_type": "code",
   "execution_count": 18,
   "id": "b4e3c6df-1acd-4735-b894-c11bdcebdf71",
   "metadata": {},
   "outputs": [],
   "source": [
    "def get_model_cv_prediction(model,X,y):\n",
    "    neg_mse_score = cross_val_score(model,X,y,scoring='neg_mean_squared_error',cv=5)\n",
    "    rmse_scores = np.sqrt(np.abs(neg_mse_score))\n",
    "    avg_rmse = np.mean(rmse_scores)\n",
    "    print('####{0}####'.format(model.__class__.__name__))\n",
    "    print('교차검증 neg_MSE : {0},  RMSE : {1},  avg RMSE : {2}'.format(np.round(neg_mse_score,2), np.round(rmse_scores,2), np.round(avg_rmse,3)))\n",
    "    "
   ]
  },
  {
   "cell_type": "code",
   "execution_count": 19,
   "id": "d3800ba5-f352-41a6-a57c-b50b6a6251e1",
   "metadata": {},
   "outputs": [],
   "source": [
    "from sklearn.tree import DecisionTreeRegressor\n",
    "from sklearn.ensemble import GradientBoostingRegressor\n",
    "from xgboost import XGBRegressor\n",
    "from lightgbm import LGBMRegressor"
   ]
  },
  {
   "cell_type": "code",
   "execution_count": 20,
   "id": "43f01db7-eeb1-4815-a13a-b33310f6805a",
   "metadata": {},
   "outputs": [],
   "source": [
    "dt_reg = DecisionTreeRegressor(random_state=0, max_depth=7)\n",
    "rf_reg = RandomForestRegressor(random_state=0, n_estimators = 1000)\n",
    "gb_reg = GradientBoostingRegressor(random_state=0, n_estimators=1000)\n",
    "xgb_reg = XGBRegressor(n_estimators=1000)\n",
    "lgb_reg = LGBMRegressor(n_estimators=1000)"
   ]
  },
  {
   "cell_type": "code",
   "execution_count": 21,
   "id": "bebd9c5c-3bac-40c9-af19-7b503528e9e6",
   "metadata": {},
   "outputs": [
    {
     "name": "stdout",
     "output_type": "stream",
     "text": [
      "####DecisionTreeRegressor####\n",
      "교차검증 neg_MSE : [-10.86 -33.14 -26.1  -51.29 -75.94],  RMSE : [3.3  5.76 5.11 7.16 8.71],  avg RMSE : 6.007\n",
      "####RandomForestRegressor####\n",
      "교차검증 neg_MSE : [ -7.88 -13.14 -20.57 -46.23 -18.88],  RMSE : [2.81 3.63 4.54 6.8  4.34],  avg RMSE : 4.423\n",
      "####GradientBoostingRegressor####\n",
      "교차검증 neg_MSE : [ -7.52 -14.52 -19.57 -39.45 -16.72],  RMSE : [2.74 3.81 4.42 6.28 4.09],  avg RMSE : 4.269\n",
      "####XGBRegressor####\n",
      "교차검증 neg_MSE : [ -9.17 -13.74 -13.95 -41.76 -18.69],  RMSE : [3.03 3.71 3.73 6.46 4.32],  avg RMSE : 4.251\n",
      "####LGBMRegressor####\n",
      "교차검증 neg_MSE : [ -8.96 -18.58 -17.05 -43.71 -26.92],  RMSE : [2.99 4.31 4.13 6.61 5.19],  avg RMSE : 4.646\n"
     ]
    }
   ],
   "source": [
    "models = [dt_reg,rf_reg,gb_reg,xgb_reg,lgb_reg]\n",
    "for model in models:\n",
    "    get_model_cv_prediction(model,X,y)"
   ]
  },
  {
   "cell_type": "markdown",
   "id": "6af898a8-a21b-490b-9a9b-d3c4f0d6525f",
   "metadata": {},
   "source": [
    "### 회귀트리\n",
    "트리기반 회귀는 기본적으로 회귀함수를 생성하지 않기 때문에 회귀계수 coef_를 불러올 수 없다.\n",
    "대신 feature importance는 제공한다."
   ]
  },
  {
   "cell_type": "code",
   "execution_count": 24,
   "id": "96a4d1bb-4d48-4168-b52e-77ce90a93fd7",
   "metadata": {},
   "outputs": [
    {
     "data": {
      "image/png": "[encoded data removed]",
      "text/plain": [
       "<Figure size 432x288 with 1 Axes>"
      ]
     },
     "metadata": {
      "needs_background": "light"
     },
     "output_type": "display_data"
    }
   ],
   "source": [
    "for model in models:\n",
    "    model.fit(X,y)\n",
    "    feature_seriese = pd.Series(model.feature_importances_,X.columns)\n",
    "    feature_seriese = feature_seriese.sort_values(ascending=False)\n",
    "    sns.barplot(x=feature_seriese,y = feature_seriese.index)"
   ]
  },
  {
   "cell_type": "code",
   "execution_count": null,
   "id": "199546d1-7c70-42f6-9c17-2afd067983bb",
   "metadata": {},
   "outputs": [],
   "source": []
  },
  {
   "cell_type": "code",
   "execution_count": null,
   "id": "9104c7b9-99f7-4e32-a369-4efe1e85e3e7",
   "metadata": {},
   "outputs": [],
   "source": []
  }
 ],
 "metadata": {
  "kernelspec": {
   "display_name": "Python 3 (ipykernel)",
   "language": "python",
   "name": "python3"
  },
  "language_info": {
   "codemirror_mode": {
    "name": "ipython",
    "version": 3
   },
   "file_extension": ".py",
   "mimetype": "text/x-python",
   "name": "python",
   "nbconvert_exporter": "python",
   "pygments_lexer": "ipython3",
   "version": "3.9.7"
  }
 },
 "nbformat": 4,
 "nbformat_minor": 5
}
